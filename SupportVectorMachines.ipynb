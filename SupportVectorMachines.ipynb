{
  "cells": [
    {
      "cell_type": "markdown",
      "metadata": {
        "id": "Tz-SfT2ktV49"
      },
      "source": [
        "## Python Implementation"
      ]
    },
    {
      "cell_type": "markdown",
      "metadata": {
        "id": "ZK0mGjI8tV5C"
      },
      "source": [
        "### Business Case:-To find out based on given features whether the loan will get approved or not"
      ]
    },
    {
      "cell_type": "code",
      "execution_count": null,
      "metadata": {
        "id": "KbOTlr-ntV5M"
      },
      "outputs": [],
      "source": [
        "##importing the libraries\n",
        "import pandas as pd\n",
        "import numpy as np\n",
        "import seaborn as sns\n",
        "import matplotlib.pyplot as plt"
      ]
    },
    {
      "cell_type": "code",
      "execution_count": null,
      "metadata": {
        "id": "jB8u6VJwtV5O"
      },
      "outputs": [],
      "source": [
        "## loading the data\n",
        "data=pd.read_csv('loan_approved.csv')"
      ]
    },
    {
      "cell_type": "code",
      "execution_count": null,
      "metadata": {
        "id": "2zUtrJ_YtV5P"
      },
      "outputs": [],
      "source": [
        "## Getting the first few rows of data\n",
        "data.head()"
      ]
    },
    {
      "cell_type": "code",
      "execution_count": null,
      "metadata": {
        "id": "chjEdEkl9gBO"
      },
      "outputs": [],
      "source": [
        "# Domian analysis."
      ]
    },
    {
      "cell_type": "markdown",
      "metadata": {
        "id": "0H6eCq4atV5R"
      },
      "source": [
        "## Basic Checks"
      ]
    },
    {
      "cell_type": "raw",
      "metadata": {
        "id": "Q2VJLB-N9gBP"
      },
      "source": [
        "head,tail,info,describe for both numerical and categorical"
      ]
    },
    {
      "cell_type": "code",
      "execution_count": null,
      "metadata": {
        "id": "Ofxk0zfU1RLd"
      },
      "outputs": [],
      "source": [
        "#Gives statistical inforamtion about numerical columns\n",
        "data.describe()"
      ]
    },
    {
      "cell_type": "markdown",
      "metadata": {
        "id": "vH1MUdl91RLe"
      },
      "source": [
        "***Observation***\n",
        "-"
      ]
    },
    {
      "cell_type": "code",
      "execution_count": null,
      "metadata": {
        "id": "tUnTrilM9gBQ"
      },
      "outputs": [],
      "source": [
        "data.describe(include='O')"
      ]
    },
    {
      "cell_type": "code",
      "execution_count": null,
      "metadata": {
        "id": "nJijH6ln9gBR"
      },
      "outputs": [],
      "source": [
        "data.info()"
      ]
    },
    {
      "cell_type": "code",
      "execution_count": null,
      "metadata": {
        "id": "Zj1Bw8y01RLg"
      },
      "outputs": [],
      "source": [
        "data.shape"
      ]
    },
    {
      "cell_type": "markdown",
      "metadata": {
        "id": "-A2vQg3htV5T"
      },
      "source": [
        "## Exploratory Data Analysis"
      ]
    },
    {
      "cell_type": "code",
      "execution_count": null,
      "metadata": {
        "id": "16bN4LdZ9gBS"
      },
      "outputs": [],
      "source": [
        "# Univariate analysis\n",
        "# Bivaraite analysis--Autoviz"
      ]
    },
    {
      "cell_type": "code",
      "execution_count": null,
      "metadata": {
        "id": "Lzc_RN0-1RLl"
      },
      "outputs": [],
      "source": [
        "data.head()"
      ]
    },
    {
      "cell_type": "code",
      "execution_count": null,
      "metadata": {
        "id": "ofoORGk39gBT"
      },
      "outputs": [],
      "source": [
        "#!pip install sweetviz"
      ]
    },
    {
      "cell_type": "code",
      "execution_count": null,
      "metadata": {
        "id": "eCARsJUX9gBT"
      },
      "outputs": [],
      "source": [
        "import sweetviz as sv #  library for univariant analysis\n",
        "\n",
        "my_report = sv.analyze(data)## pass the original dataframe\n",
        "\n",
        "my_report.show_html() # Default arguments will generate to \"SWEETVIZ_REPORT.html\""
      ]
    },
    {
      "cell_type": "code",
      "execution_count": null,
      "metadata": {
        "id": "XVz_NamR9gBU"
      },
      "outputs": [],
      "source": [
        "## Bivariate Analysis\n",
        "data.info()"
      ]
    },
    {
      "cell_type": "code",
      "execution_count": null,
      "metadata": {
        "id": "ISa5spl19gBV"
      },
      "outputs": [],
      "source": [
        "data1=data[['Gender','Married','Dependents','Education','Self_Employed','Property_Area']] #Categorical data\n",
        "data2=data[['ApplicantIncome','CoapplicantIncome','LoanAmount','Loan_Amount_Term','Credit_History']] #Numerical Data"
      ]
    },
    {
      "cell_type": "code",
      "execution_count": null,
      "metadata": {
        "id": "oniEgudJ9gBV"
      },
      "outputs": [],
      "source": [
        "plt.figure(figsize=(20,10))#To set canvas\n",
        "plotnumber = 1#counter\n",
        "\n",
        "for column in data1:#accessing the columns\n",
        "    plt.subplot(2,3,plotnumber)\n",
        "    sns.countplot(x=data1[column],hue=data['Loan_Status (Approved)'])\n",
        "    plt.xlabel(column,fontsize=20)#assign name to x-axis and set font-20\n",
        "    plt.ylabel('Loan Status',fontsize=20)\n",
        "    plotnumber+=1#counter increment\n",
        "plt.tight_layout()"
      ]
    },
    {
      "cell_type": "code",
      "execution_count": null,
      "metadata": {
        "id": "5Ivy5Fnv1RLp"
      },
      "outputs": [],
      "source": [
        "data1[\"Gender\"]"
      ]
    },
    {
      "cell_type": "code",
      "execution_count": null,
      "metadata": {
        "id": "k1RN2Jmm9gBW"
      },
      "outputs": [],
      "source": [
        "plt.figure(figsize=(20,25))#To set canvas\n",
        "plotnumber = 1#counter\n",
        "\n",
        "for column in data2:#accessing the columns\n",
        "    ax = plt.subplot(4,4,plotnumber)\n",
        "    sns.histplot(x=data2[column])\n",
        "    plt.xlabel(column,fontsize=20)#assign name to x-axis and set font-20\n",
        "    plt.ylabel('Loan Status',fontsize=20)\n",
        "    plotnumber+=1#counter increment\n",
        "plt.tight_layout()"
      ]
    },
    {
      "cell_type": "markdown",
      "metadata": {
        "id": "oGvYld_4tV5X"
      },
      "source": [
        "## Data Preprocessing Pipeline"
      ]
    },
    {
      "cell_type": "code",
      "execution_count": null,
      "metadata": {
        "id": "dwYo-Oc0tV5a"
      },
      "outputs": [],
      "source": [
        "## Checking missing values\n",
        "data.isnull().sum()"
      ]
    },
    {
      "cell_type": "code",
      "execution_count": null,
      "metadata": {
        "id": "d55o3UkktV5c"
      },
      "outputs": [],
      "source": [
        "data.shape"
      ]
    },
    {
      "cell_type": "code",
      "execution_count": null,
      "metadata": {
        "id": "ceoT8kmatV5e"
      },
      "outputs": [],
      "source": [
        "## Getting the rows where values are missed in Gender features\n",
        "data.loc[data[\"Gender\"].isnull()]"
      ]
    },
    {
      "cell_type": "code",
      "execution_count": null,
      "metadata": {
        "id": "alXHqtzktV5j"
      },
      "outputs": [],
      "source": [
        "## How much values have been missed\n",
        "data.Gender.isnull().sum()/len(data)*100\n",
        "#There are around 2.11% of data is null in Gender Column"
      ]
    },
    {
      "cell_type": "code",
      "execution_count": null,
      "metadata": {
        "id": "sEd_ritGtV5f"
      },
      "outputs": [],
      "source": [
        "## Checking the distribution along the both labels\n",
        "data.Gender.value_counts()"
      ]
    },
    {
      "cell_type": "code",
      "execution_count": null,
      "metadata": {
        "id": "64rwMCdNtV5n"
      },
      "outputs": [],
      "source": [
        "## Imputing the missing values with mode\n",
        "data.loc[data['Gender'].isnull(),\"Gender\"] = \"Male\""
      ]
    },
    {
      "cell_type": "code",
      "execution_count": null,
      "metadata": {
        "id": "iT4YRcaNtV5n"
      },
      "outputs": [],
      "source": [
        "data.Gender.isnull().sum()"
      ]
    },
    {
      "cell_type": "code",
      "execution_count": null,
      "metadata": {
        "id": "sFVq0iwutV5o"
      },
      "outputs": [],
      "source": [
        "## Getting the values in Dependents\n",
        "data.loc[data[\"Dependents\"].isnull()]"
      ]
    },
    {
      "cell_type": "code",
      "execution_count": null,
      "metadata": {
        "id": "BYhfilEztV5r"
      },
      "outputs": [],
      "source": [
        "data.Dependents.value_counts()"
      ]
    },
    {
      "cell_type": "code",
      "execution_count": null,
      "metadata": {
        "id": "NMA2PUnitV5r"
      },
      "outputs": [],
      "source": [
        "# From the graphical representation it can be seen that as the number of dependents\n",
        "#getting increased,\n",
        "# the chances of approval is less, since we have missed values and if we approve\n",
        "# loan for them\n",
        "# it can turn into major loss(high chance).Hence we will substitue missing values\n",
        "#by 3+.\n",
        "data.loc[data['Dependents'].isnull(),'Dependents'] = '3+'"
      ]
    },
    {
      "cell_type": "code",
      "execution_count": null,
      "metadata": {
        "id": "_mc9oeW41RMA"
      },
      "outputs": [],
      "source": [
        "data[\"Dependents\"].isnull().sum()"
      ]
    },
    {
      "cell_type": "code",
      "execution_count": null,
      "metadata": {
        "id": "TmGvY9ob1RMA"
      },
      "outputs": [],
      "source": [
        "data.head()"
      ]
    },
    {
      "cell_type": "code",
      "execution_count": null,
      "metadata": {
        "id": "WQDW_cew9gBf"
      },
      "outputs": [],
      "source": [
        "## renaming the target column\n",
        "data.rename(columns={\"Loan_Status (Approved)\":'Loan_Status'},inplace=True)"
      ]
    },
    {
      "cell_type": "code",
      "execution_count": null,
      "metadata": {
        "id": "A4_Smy9G1RMD"
      },
      "outputs": [],
      "source": [
        "data.isnull().sum()"
      ]
    },
    {
      "cell_type": "code",
      "execution_count": null,
      "metadata": {
        "id": "C_XIaBedtV5v"
      },
      "outputs": [],
      "source": [
        "## For married feature\n",
        "data.loc[data['Married'].isnull()]"
      ]
    },
    {
      "cell_type": "code",
      "execution_count": null,
      "metadata": {
        "id": "xRDXQUK19gBh"
      },
      "outputs": [],
      "source": [
        "sns.countplot(x='Married',hue='Loan_Status',data=data)"
      ]
    },
    {
      "cell_type": "code",
      "execution_count": null,
      "metadata": {
        "id": "eEesiMnitV5v"
      },
      "outputs": [],
      "source": [
        "## getting the counts\n",
        "data.Married.value_counts()"
      ]
    },
    {
      "cell_type": "code",
      "execution_count": null,
      "metadata": {
        "id": "HfPxbEXStV5w"
      },
      "outputs": [],
      "source": [
        "## Imputing with yes i.e mode\n",
        "data.loc[data['Married'].isnull(),'Married']='Yes'"
      ]
    },
    {
      "cell_type": "code",
      "execution_count": null,
      "metadata": {
        "id": "YiofCYcftV5z"
      },
      "outputs": [],
      "source": [
        "## Checking Self_Employed\n",
        "#data.loc[data['Self_Employed'].isnull()==True]\n",
        "data.loc[data['Self_Employed'].isnull()]"
      ]
    },
    {
      "cell_type": "code",
      "execution_count": null,
      "metadata": {
        "id": "vbH4sNxT9gBi"
      },
      "outputs": [],
      "source": [
        "sns.countplot(x='Self_Employed',hue='Loan_Status',data=data)"
      ]
    },
    {
      "cell_type": "code",
      "execution_count": null,
      "metadata": {
        "id": "eSbWzwIutV52"
      },
      "outputs": [],
      "source": [
        "data.Self_Employed.value_counts()"
      ]
    },
    {
      "cell_type": "code",
      "execution_count": null,
      "metadata": {
        "id": "09MdtEiTtV54"
      },
      "outputs": [],
      "source": [
        "# Replace the nan values with mode\n",
        "data.loc[data['Self_Employed'].isnull(),'Self_Employed']='No'"
      ]
    },
    {
      "cell_type": "code",
      "execution_count": null,
      "metadata": {
        "id": "vUtjuW5EtV55"
      },
      "outputs": [],
      "source": [
        "# check for null values\n",
        "data.isnull().sum()"
      ]
    },
    {
      "cell_type": "code",
      "execution_count": null,
      "metadata": {
        "id": "5izFJ2GdtV56"
      },
      "outputs": [],
      "source": [
        "## Histogram since it has numerical value\n",
        "sns.histplot(x=\"LoanAmount\",data=data)"
      ]
    },
    {
      "cell_type": "markdown",
      "metadata": {
        "id": "G96K4wgQtV58"
      },
      "source": [
        "Since data is skewed, we can use median to replace the nan value. It is recommended to use mean only for symmetric data distribution."
      ]
    },
    {
      "cell_type": "code",
      "execution_count": null,
      "metadata": {
        "id": "Qabd6-ZXtV59"
      },
      "outputs": [],
      "source": [
        "# Check median for LoanAmount column\n",
        "np.median(data.LoanAmount.dropna(axis=0))"
      ]
    },
    {
      "cell_type": "code",
      "execution_count": null,
      "metadata": {
        "id": "nDBx-pKbtV5-"
      },
      "outputs": [],
      "source": [
        "# Replace the nan values in LoanAmount column with median value\n",
        "data.loc[data['LoanAmount'].isnull(),'LoanAmount']=np.median(data.LoanAmount.dropna(axis=0))"
      ]
    },
    {
      "cell_type": "code",
      "execution_count": null,
      "metadata": {
        "id": "KG_rfHOLtV5_"
      },
      "outputs": [],
      "source": [
        "data.LoanAmount.isnull().sum()"
      ]
    },
    {
      "cell_type": "code",
      "execution_count": null,
      "metadata": {
        "id": "-yQouybz1RMQ"
      },
      "outputs": [],
      "source": [
        "data.isnull().sum()"
      ]
    },
    {
      "cell_type": "code",
      "execution_count": null,
      "metadata": {
        "id": "KhvFFjzl9gBo"
      },
      "outputs": [],
      "source": [
        "## Laon amount term"
      ]
    },
    {
      "cell_type": "code",
      "execution_count": null,
      "metadata": {
        "id": "aBCgNuHu9gBp"
      },
      "outputs": [],
      "source": [
        "data.Loan_Amount_Term.value_counts()"
      ]
    },
    {
      "cell_type": "code",
      "execution_count": null,
      "metadata": {
        "id": "XfgmoQgs9gBp"
      },
      "outputs": [],
      "source": [
        "sns.kdeplot(data[\"Loan_Amount_Term\"])"
      ]
    },
    {
      "cell_type": "code",
      "execution_count": null,
      "metadata": {
        "id": "sGOHuoIp9gBq"
      },
      "outputs": [],
      "source": [
        "# replace the nan values in Loan_Amount_Term with the median value\n",
        "data.loc[data['Loan_Amount_Term'].isnull(),'Loan_Amount_Term']=360.0"
      ]
    },
    {
      "cell_type": "code",
      "execution_count": null,
      "metadata": {
        "id": "lNUVAbDYtV6B"
      },
      "outputs": [],
      "source": [
        "# Credit_History\n",
        "data.Credit_History.value_counts()"
      ]
    },
    {
      "cell_type": "code",
      "execution_count": null,
      "metadata": {
        "id": "TzcKk4rxtV6C"
      },
      "outputs": [],
      "source": [
        "sns.countplot(x='Credit_History',data=data,hue='Loan_Status')"
      ]
    },
    {
      "cell_type": "code",
      "execution_count": null,
      "metadata": {
        "id": "V5ag-1LftV6C"
      },
      "outputs": [],
      "source": [
        "data.loc[data['Credit_History'].isnull(),'Credit_History']=0.0"
      ]
    },
    {
      "cell_type": "code",
      "execution_count": null,
      "metadata": {
        "id": "bMW8fLFDtV6D"
      },
      "outputs": [],
      "source": [
        "data.isnull().sum()"
      ]
    },
    {
      "cell_type": "code",
      "execution_count": null,
      "metadata": {
        "id": "DTKTxzOqtV6D"
      },
      "outputs": [],
      "source": [
        "## Step 2 Handling the categorical data\n",
        "data.info()"
      ]
    },
    {
      "cell_type": "code",
      "execution_count": null,
      "metadata": {
        "id": "DqIdpERj1RMY"
      },
      "outputs": [],
      "source": [
        "data.head()"
      ]
    },
    {
      "cell_type": "raw",
      "metadata": {
        "id": "BYIDkbQQtV6N"
      },
      "source": [
        "## Using label encoder to convert the categorical data to numerical data\n",
        "## Donot run this code.This is just implementation of label encoder.This dataset have lots relationship with target.\n",
        "from sklearn.preprocessing import LabelEncoder\n",
        "lc=LabelEncoder() #Object Creation\n",
        "\n",
        "data.Gender=lc.fit_transform(data.Gender)\n",
        "data.Married=lc.fit_transform(data.Married)\n",
        "data.Education=lc.fit_transform(data.Education)\n",
        "data.Property_Area=lc.fit_transform(data.Property_Area)\n",
        "data.Loan_Status=lc.fit_transform(data.Loan_Status)\n",
        "data.Dependents=lc.fit_transform(data.Dependents)\n",
        "data.Self_Employed=lc.fit_transform(data.Self_Employed)"
      ]
    },
    {
      "cell_type": "code",
      "execution_count": null,
      "metadata": {
        "id": "cAtWe2cd1RMa"
      },
      "outputs": [],
      "source": [
        "data.head()"
      ]
    },
    {
      "cell_type": "code",
      "execution_count": null,
      "metadata": {
        "id": "gxz3thnN1RMc"
      },
      "outputs": [],
      "source": [
        "data.info()"
      ]
    },
    {
      "cell_type": "code",
      "execution_count": null,
      "metadata": {
        "id": "Ed0yA-oi9gBz"
      },
      "outputs": [],
      "source": [
        "pd.get_dummies(data['Gender'],prefix='Gender',dtype=int)"
      ]
    },
    {
      "cell_type": "code",
      "execution_count": null,
      "metadata": {
        "id": "th64Fx6P9gB0"
      },
      "outputs": [],
      "source": [
        "## One hot encoding\n",
        "df1=pd.get_dummies(data['Gender'],prefix='Gender')\n",
        "data=pd.concat([data,df1],axis=1).drop(['Gender'],axis=1)"
      ]
    },
    {
      "cell_type": "code",
      "execution_count": null,
      "metadata": {
        "id": "ACF879T31RMe"
      },
      "outputs": [],
      "source": [
        "df1"
      ]
    },
    {
      "cell_type": "code",
      "execution_count": null,
      "metadata": {
        "id": "JkCcRxDY1RMf"
      },
      "outputs": [],
      "source": [
        "data.head()"
      ]
    },
    {
      "cell_type": "code",
      "execution_count": null,
      "metadata": {
        "id": "-ttppAv09gB1"
      },
      "outputs": [],
      "source": [
        "df1=pd.get_dummies(data['Married'],prefix='Married')\n",
        "data=pd.concat([data,df1],axis=1).drop(['Married'],axis=1)"
      ]
    },
    {
      "cell_type": "code",
      "execution_count": null,
      "metadata": {
        "id": "gnWE5TQb1RMg"
      },
      "outputs": [],
      "source": [
        "data.head()"
      ]
    },
    {
      "cell_type": "code",
      "execution_count": null,
      "metadata": {
        "id": "ilawZRMI1RMh"
      },
      "outputs": [],
      "source": [
        "data[\"Education\"].unique()"
      ]
    },
    {
      "cell_type": "code",
      "execution_count": null,
      "metadata": {
        "id": "rx0PMtVy9gB1"
      },
      "outputs": [],
      "source": [
        "df1=pd.get_dummies(data['Education'],prefix='Education')\n",
        "data=pd.concat([data,df1],axis=1).drop(['Education'],axis=1)"
      ]
    },
    {
      "cell_type": "code",
      "execution_count": null,
      "metadata": {
        "id": "APrYVOq-1RMi"
      },
      "outputs": [],
      "source": [
        "data[\"Property_Area\"].unique()"
      ]
    },
    {
      "cell_type": "code",
      "execution_count": null,
      "metadata": {
        "id": "nawuGLXx9gB2"
      },
      "outputs": [],
      "source": [
        "df1=pd.get_dummies(data['Property_Area'],prefix='Property_Area',drop_first=True)\n",
        "data=pd.concat([data,df1],axis=1).drop(['Property_Area'],axis=1)"
      ]
    },
    {
      "cell_type": "code",
      "execution_count": null,
      "metadata": {
        "id": "P_Ah126F1RMl"
      },
      "outputs": [],
      "source": [
        "data.head()"
      ]
    },
    {
      "cell_type": "code",
      "execution_count": null,
      "metadata": {
        "id": "LNJ5nFS81RMo"
      },
      "outputs": [],
      "source": [
        "data[\"Dependents\"].unique()"
      ]
    },
    {
      "cell_type": "code",
      "execution_count": null,
      "metadata": {
        "id": "f7DKtXvy9gB2"
      },
      "outputs": [],
      "source": [
        "df1=pd.get_dummies(data['Dependents'],prefix='Dependents',drop_first=True)\n",
        "data=pd.concat([data,df1],axis=1).drop(['Dependents'],axis=1)"
      ]
    },
    {
      "cell_type": "code",
      "execution_count": null,
      "metadata": {
        "id": "M1vAvhx-1RMp"
      },
      "outputs": [],
      "source": [
        "data[\"Self_Employed\"].unique()"
      ]
    },
    {
      "cell_type": "code",
      "execution_count": null,
      "metadata": {
        "id": "DEeZp8Ac9gB2"
      },
      "outputs": [],
      "source": [
        "df1=pd.get_dummies(data['Self_Employed'],prefix='Self_Employed')\n",
        "data=pd.concat([data,df1],axis=1).drop(['Self_Employed'],axis=1)"
      ]
    },
    {
      "cell_type": "code",
      "execution_count": null,
      "metadata": {
        "id": "qgccIPdX9gB3"
      },
      "outputs": [],
      "source": [
        "## scaling data\n",
        "data.head()"
      ]
    },
    {
      "cell_type": "code",
      "execution_count": null,
      "metadata": {
        "id": "B62t89Vg1RMr"
      },
      "outputs": [],
      "source": [
        "data[\"Loan_Amount_Term\"].value_counts()"
      ]
    },
    {
      "cell_type": "code",
      "execution_count": null,
      "metadata": {
        "id": "1DAMkdfM1RMs"
      },
      "outputs": [],
      "source": [
        "## scaling data\n",
        "data[\"Loan_Amount_Term\"] = data[\"Loan_Amount_Term\"]/12"
      ]
    },
    {
      "cell_type": "code",
      "execution_count": null,
      "metadata": {
        "id": "Z07KvO2N1RMs"
      },
      "outputs": [],
      "source": [
        "data[\"Loan_Amount_Term\"].value_counts()"
      ]
    },
    {
      "cell_type": "code",
      "execution_count": null,
      "metadata": {
        "id": "GX3Zle-rtV6R"
      },
      "outputs": [],
      "source": [
        "## scaling data\n",
        "from sklearn.preprocessing import MinMaxScaler\n",
        "scale=MinMaxScaler() #Object Creation\n",
        "data[['ApplicantIncome','CoapplicantIncome','LoanAmount']]=scale.fit_transform(data[['ApplicantIncome','CoapplicantIncome',\n",
        "                          'LoanAmount']])"
      ]
    },
    {
      "cell_type": "code",
      "execution_count": null,
      "metadata": {
        "id": "tBdks0-6tV6S"
      },
      "outputs": [],
      "source": [
        "data.head()"
      ]
    },
    {
      "cell_type": "code",
      "execution_count": null,
      "metadata": {
        "id": "C7LNXpMe9gB4"
      },
      "outputs": [],
      "source": [
        "## checking the duplicate rows\n",
        "#data.duplicate()\n",
        "data.duplicated().sum()"
      ]
    },
    {
      "cell_type": "code",
      "execution_count": null,
      "metadata": {
        "id": "Cdn6ubxq9gB5"
      },
      "outputs": [],
      "source": [
        "## Saving the preprocessed data.\n",
        "data.to_csv('Preprocessed_data.csv',index=False)"
      ]
    },
    {
      "cell_type": "code",
      "execution_count": null,
      "metadata": {
        "id": "QqqanZMM9gB5"
      },
      "outputs": [],
      "source": [
        "## Loading the data\n",
        "preprocessed_data=pd.read_csv('Preprocessed_data.csv')"
      ]
    },
    {
      "cell_type": "code",
      "execution_count": null,
      "metadata": {
        "id": "pxPDKGQx9gB6",
        "outputId": "d156f54b-5479-4e45-dfa8-d76fcad144aa"
      },
      "outputs": [
        {
          "data": {
            "text/html": [
              "<div>\n",
              "<style scoped>\n",
              "    .dataframe tbody tr th:only-of-type {\n",
              "        vertical-align: middle;\n",
              "    }\n",
              "\n",
              "    .dataframe tbody tr th {\n",
              "        vertical-align: top;\n",
              "    }\n",
              "\n",
              "    .dataframe thead th {\n",
              "        text-align: right;\n",
              "    }\n",
              "</style>\n",
              "<table border=\"1\" class=\"dataframe\">\n",
              "  <thead>\n",
              "    <tr style=\"text-align: right;\">\n",
              "      <th></th>\n",
              "      <th>Loan_ID</th>\n",
              "      <th>ApplicantIncome</th>\n",
              "      <th>CoapplicantIncome</th>\n",
              "      <th>LoanAmount</th>\n",
              "      <th>Loan_Amount_Term</th>\n",
              "      <th>Credit_History</th>\n",
              "      <th>Loan_Status</th>\n",
              "      <th>Gender_Female</th>\n",
              "      <th>Gender_Male</th>\n",
              "      <th>Married_No</th>\n",
              "      <th>Married_Yes</th>\n",
              "      <th>Education_Graduate</th>\n",
              "      <th>Education_Not Graduate</th>\n",
              "      <th>Property_Area_Semiurban</th>\n",
              "      <th>Property_Area_Urban</th>\n",
              "      <th>Dependents_1</th>\n",
              "      <th>Dependents_2</th>\n",
              "      <th>Dependents_3+</th>\n",
              "      <th>Self_Employed_No</th>\n",
              "      <th>Self_Employed_Yes</th>\n",
              "    </tr>\n",
              "  </thead>\n",
              "  <tbody>\n",
              "    <tr>\n",
              "      <th>0</th>\n",
              "      <td>LP001002</td>\n",
              "      <td>0.070489</td>\n",
              "      <td>0.000000</td>\n",
              "      <td>0.172214</td>\n",
              "      <td>30.0</td>\n",
              "      <td>1.0</td>\n",
              "      <td>Y</td>\n",
              "      <td>0</td>\n",
              "      <td>1</td>\n",
              "      <td>1</td>\n",
              "      <td>0</td>\n",
              "      <td>1</td>\n",
              "      <td>0</td>\n",
              "      <td>0</td>\n",
              "      <td>1</td>\n",
              "      <td>0</td>\n",
              "      <td>0</td>\n",
              "      <td>0</td>\n",
              "      <td>1</td>\n",
              "      <td>0</td>\n",
              "    </tr>\n",
              "    <tr>\n",
              "      <th>1</th>\n",
              "      <td>LP001003</td>\n",
              "      <td>0.054830</td>\n",
              "      <td>0.036192</td>\n",
              "      <td>0.172214</td>\n",
              "      <td>30.0</td>\n",
              "      <td>1.0</td>\n",
              "      <td>N</td>\n",
              "      <td>0</td>\n",
              "      <td>1</td>\n",
              "      <td>0</td>\n",
              "      <td>1</td>\n",
              "      <td>1</td>\n",
              "      <td>0</td>\n",
              "      <td>0</td>\n",
              "      <td>0</td>\n",
              "      <td>1</td>\n",
              "      <td>0</td>\n",
              "      <td>0</td>\n",
              "      <td>1</td>\n",
              "      <td>0</td>\n",
              "    </tr>\n",
              "    <tr>\n",
              "      <th>2</th>\n",
              "      <td>LP001005</td>\n",
              "      <td>0.035250</td>\n",
              "      <td>0.000000</td>\n",
              "      <td>0.082489</td>\n",
              "      <td>30.0</td>\n",
              "      <td>1.0</td>\n",
              "      <td>Y</td>\n",
              "      <td>0</td>\n",
              "      <td>1</td>\n",
              "      <td>0</td>\n",
              "      <td>1</td>\n",
              "      <td>1</td>\n",
              "      <td>0</td>\n",
              "      <td>0</td>\n",
              "      <td>1</td>\n",
              "      <td>0</td>\n",
              "      <td>0</td>\n",
              "      <td>0</td>\n",
              "      <td>0</td>\n",
              "      <td>1</td>\n",
              "    </tr>\n",
              "    <tr>\n",
              "      <th>3</th>\n",
              "      <td>LP001006</td>\n",
              "      <td>0.030093</td>\n",
              "      <td>0.056592</td>\n",
              "      <td>0.160637</td>\n",
              "      <td>30.0</td>\n",
              "      <td>1.0</td>\n",
              "      <td>Y</td>\n",
              "      <td>0</td>\n",
              "      <td>1</td>\n",
              "      <td>0</td>\n",
              "      <td>1</td>\n",
              "      <td>0</td>\n",
              "      <td>1</td>\n",
              "      <td>0</td>\n",
              "      <td>1</td>\n",
              "      <td>0</td>\n",
              "      <td>0</td>\n",
              "      <td>0</td>\n",
              "      <td>1</td>\n",
              "      <td>0</td>\n",
              "    </tr>\n",
              "    <tr>\n",
              "      <th>4</th>\n",
              "      <td>LP001008</td>\n",
              "      <td>0.072356</td>\n",
              "      <td>0.000000</td>\n",
              "      <td>0.191027</td>\n",
              "      <td>30.0</td>\n",
              "      <td>1.0</td>\n",
              "      <td>Y</td>\n",
              "      <td>0</td>\n",
              "      <td>1</td>\n",
              "      <td>1</td>\n",
              "      <td>0</td>\n",
              "      <td>1</td>\n",
              "      <td>0</td>\n",
              "      <td>0</td>\n",
              "      <td>1</td>\n",
              "      <td>0</td>\n",
              "      <td>0</td>\n",
              "      <td>0</td>\n",
              "      <td>1</td>\n",
              "      <td>0</td>\n",
              "    </tr>\n",
              "  </tbody>\n",
              "</table>\n",
              "</div>"
            ],
            "text/plain": [
              "    Loan_ID  ApplicantIncome  CoapplicantIncome  LoanAmount  Loan_Amount_Term  \\\n",
              "0  LP001002         0.070489           0.000000    0.172214              30.0   \n",
              "1  LP001003         0.054830           0.036192    0.172214              30.0   \n",
              "2  LP001005         0.035250           0.000000    0.082489              30.0   \n",
              "3  LP001006         0.030093           0.056592    0.160637              30.0   \n",
              "4  LP001008         0.072356           0.000000    0.191027              30.0   \n",
              "\n",
              "   Credit_History Loan_Status  Gender_Female  Gender_Male  Married_No  \\\n",
              "0             1.0           Y              0            1           1   \n",
              "1             1.0           N              0            1           0   \n",
              "2             1.0           Y              0            1           0   \n",
              "3             1.0           Y              0            1           0   \n",
              "4             1.0           Y              0            1           1   \n",
              "\n",
              "   Married_Yes  Education_Graduate  Education_Not Graduate  \\\n",
              "0            0                   1                       0   \n",
              "1            1                   1                       0   \n",
              "2            1                   1                       0   \n",
              "3            1                   0                       1   \n",
              "4            0                   1                       0   \n",
              "\n",
              "   Property_Area_Semiurban  Property_Area_Urban  Dependents_1  Dependents_2  \\\n",
              "0                        0                    1             0             0   \n",
              "1                        0                    0             1             0   \n",
              "2                        0                    1             0             0   \n",
              "3                        0                    1             0             0   \n",
              "4                        0                    1             0             0   \n",
              "\n",
              "   Dependents_3+  Self_Employed_No  Self_Employed_Yes  \n",
              "0              0                 1                  0  \n",
              "1              0                 1                  0  \n",
              "2              0                 0                  1  \n",
              "3              0                 1                  0  \n",
              "4              0                 1                  0  "
            ]
          },
          "execution_count": 4,
          "metadata": {},
          "output_type": "execute_result"
        }
      ],
      "source": [
        "preprocessed_data.head()"
      ]
    },
    {
      "cell_type": "markdown",
      "metadata": {
        "id": "e2gkrDzztV6T"
      },
      "source": [
        "## Feature Selection"
      ]
    },
    {
      "cell_type": "code",
      "execution_count": null,
      "metadata": {
        "id": "BXfJzwqY9gB7"
      },
      "outputs": [],
      "source": [
        "# Removing redundant columns\n",
        "#We can drop loan id.\n",
        "preprocessed_data.drop('Loan_ID',axis=1,inplace=True)"
      ]
    },
    {
      "cell_type": "code",
      "execution_count": null,
      "metadata": {
        "id": "P9Pd_wPA9gB7",
        "outputId": "ac1e0477-5df6-43aa-80e5-f21fda4b3fbd"
      },
      "outputs": [
        {
          "data": {
            "text/html": [
              "<div>\n",
              "<style scoped>\n",
              "    .dataframe tbody tr th:only-of-type {\n",
              "        vertical-align: middle;\n",
              "    }\n",
              "\n",
              "    .dataframe tbody tr th {\n",
              "        vertical-align: top;\n",
              "    }\n",
              "\n",
              "    .dataframe thead th {\n",
              "        text-align: right;\n",
              "    }\n",
              "</style>\n",
              "<table border=\"1\" class=\"dataframe\">\n",
              "  <thead>\n",
              "    <tr style=\"text-align: right;\">\n",
              "      <th></th>\n",
              "      <th>ApplicantIncome</th>\n",
              "      <th>CoapplicantIncome</th>\n",
              "      <th>LoanAmount</th>\n",
              "      <th>Loan_Amount_Term</th>\n",
              "      <th>Credit_History</th>\n",
              "      <th>Loan_Status</th>\n",
              "      <th>Gender_Female</th>\n",
              "      <th>Gender_Male</th>\n",
              "      <th>Married_No</th>\n",
              "      <th>Married_Yes</th>\n",
              "      <th>Education_Graduate</th>\n",
              "      <th>Education_Not Graduate</th>\n",
              "      <th>Property_Area_Semiurban</th>\n",
              "      <th>Property_Area_Urban</th>\n",
              "      <th>Dependents_1</th>\n",
              "      <th>Dependents_2</th>\n",
              "      <th>Dependents_3+</th>\n",
              "      <th>Self_Employed_No</th>\n",
              "      <th>Self_Employed_Yes</th>\n",
              "    </tr>\n",
              "  </thead>\n",
              "  <tbody>\n",
              "    <tr>\n",
              "      <th>0</th>\n",
              "      <td>0.070489</td>\n",
              "      <td>0.000000</td>\n",
              "      <td>0.172214</td>\n",
              "      <td>30.0</td>\n",
              "      <td>1.0</td>\n",
              "      <td>Y</td>\n",
              "      <td>0</td>\n",
              "      <td>1</td>\n",
              "      <td>1</td>\n",
              "      <td>0</td>\n",
              "      <td>1</td>\n",
              "      <td>0</td>\n",
              "      <td>0</td>\n",
              "      <td>1</td>\n",
              "      <td>0</td>\n",
              "      <td>0</td>\n",
              "      <td>0</td>\n",
              "      <td>1</td>\n",
              "      <td>0</td>\n",
              "    </tr>\n",
              "    <tr>\n",
              "      <th>1</th>\n",
              "      <td>0.054830</td>\n",
              "      <td>0.036192</td>\n",
              "      <td>0.172214</td>\n",
              "      <td>30.0</td>\n",
              "      <td>1.0</td>\n",
              "      <td>N</td>\n",
              "      <td>0</td>\n",
              "      <td>1</td>\n",
              "      <td>0</td>\n",
              "      <td>1</td>\n",
              "      <td>1</td>\n",
              "      <td>0</td>\n",
              "      <td>0</td>\n",
              "      <td>0</td>\n",
              "      <td>1</td>\n",
              "      <td>0</td>\n",
              "      <td>0</td>\n",
              "      <td>1</td>\n",
              "      <td>0</td>\n",
              "    </tr>\n",
              "    <tr>\n",
              "      <th>2</th>\n",
              "      <td>0.035250</td>\n",
              "      <td>0.000000</td>\n",
              "      <td>0.082489</td>\n",
              "      <td>30.0</td>\n",
              "      <td>1.0</td>\n",
              "      <td>Y</td>\n",
              "      <td>0</td>\n",
              "      <td>1</td>\n",
              "      <td>0</td>\n",
              "      <td>1</td>\n",
              "      <td>1</td>\n",
              "      <td>0</td>\n",
              "      <td>0</td>\n",
              "      <td>1</td>\n",
              "      <td>0</td>\n",
              "      <td>0</td>\n",
              "      <td>0</td>\n",
              "      <td>0</td>\n",
              "      <td>1</td>\n",
              "    </tr>\n",
              "    <tr>\n",
              "      <th>3</th>\n",
              "      <td>0.030093</td>\n",
              "      <td>0.056592</td>\n",
              "      <td>0.160637</td>\n",
              "      <td>30.0</td>\n",
              "      <td>1.0</td>\n",
              "      <td>Y</td>\n",
              "      <td>0</td>\n",
              "      <td>1</td>\n",
              "      <td>0</td>\n",
              "      <td>1</td>\n",
              "      <td>0</td>\n",
              "      <td>1</td>\n",
              "      <td>0</td>\n",
              "      <td>1</td>\n",
              "      <td>0</td>\n",
              "      <td>0</td>\n",
              "      <td>0</td>\n",
              "      <td>1</td>\n",
              "      <td>0</td>\n",
              "    </tr>\n",
              "    <tr>\n",
              "      <th>4</th>\n",
              "      <td>0.072356</td>\n",
              "      <td>0.000000</td>\n",
              "      <td>0.191027</td>\n",
              "      <td>30.0</td>\n",
              "      <td>1.0</td>\n",
              "      <td>Y</td>\n",
              "      <td>0</td>\n",
              "      <td>1</td>\n",
              "      <td>1</td>\n",
              "      <td>0</td>\n",
              "      <td>1</td>\n",
              "      <td>0</td>\n",
              "      <td>0</td>\n",
              "      <td>1</td>\n",
              "      <td>0</td>\n",
              "      <td>0</td>\n",
              "      <td>0</td>\n",
              "      <td>1</td>\n",
              "      <td>0</td>\n",
              "    </tr>\n",
              "  </tbody>\n",
              "</table>\n",
              "</div>"
            ],
            "text/plain": [
              "   ApplicantIncome  CoapplicantIncome  LoanAmount  Loan_Amount_Term  \\\n",
              "0         0.070489           0.000000    0.172214              30.0   \n",
              "1         0.054830           0.036192    0.172214              30.0   \n",
              "2         0.035250           0.000000    0.082489              30.0   \n",
              "3         0.030093           0.056592    0.160637              30.0   \n",
              "4         0.072356           0.000000    0.191027              30.0   \n",
              "\n",
              "   Credit_History Loan_Status  Gender_Female  Gender_Male  Married_No  \\\n",
              "0             1.0           Y              0            1           1   \n",
              "1             1.0           N              0            1           0   \n",
              "2             1.0           Y              0            1           0   \n",
              "3             1.0           Y              0            1           0   \n",
              "4             1.0           Y              0            1           1   \n",
              "\n",
              "   Married_Yes  Education_Graduate  Education_Not Graduate  \\\n",
              "0            0                   1                       0   \n",
              "1            1                   1                       0   \n",
              "2            1                   1                       0   \n",
              "3            1                   0                       1   \n",
              "4            0                   1                       0   \n",
              "\n",
              "   Property_Area_Semiurban  Property_Area_Urban  Dependents_1  Dependents_2  \\\n",
              "0                        0                    1             0             0   \n",
              "1                        0                    0             1             0   \n",
              "2                        0                    1             0             0   \n",
              "3                        0                    1             0             0   \n",
              "4                        0                    1             0             0   \n",
              "\n",
              "   Dependents_3+  Self_Employed_No  Self_Employed_Yes  \n",
              "0              0                 1                  0  \n",
              "1              0                 1                  0  \n",
              "2              0                 0                  1  \n",
              "3              0                 1                  0  \n",
              "4              0                 1                  0  "
            ]
          },
          "execution_count": 6,
          "metadata": {},
          "output_type": "execute_result"
        }
      ],
      "source": [
        "preprocessed_data.head()"
      ]
    },
    {
      "cell_type": "code",
      "execution_count": null,
      "metadata": {
        "id": "Ba0SeqEXtV6U",
        "outputId": "e7dfdde7-c543-471e-d9dd-3d1ae7ea1a6b"
      },
      "outputs": [
        {
          "name": "stderr",
          "output_type": "stream",
          "text": [
            "C:\\Users\\AKCLAP-19\\AppData\\Local\\Temp\\ipykernel_1736\\1861196507.py:3: FutureWarning: The default value of numeric_only in DataFrame.corr is deprecated. In a future version, it will default to False. Select only valid columns or specify the value of numeric_only to silence this warning.\n",
            "  sns.heatmap(preprocessed_data.corr(),annot=True,annot_kws={\"size\": 7})\n"
          ]
        },
        {
          "data": {
            "text/plain": [
              "<Axes: >"
            ]
          },
          "execution_count": 7,
          "metadata": {},
          "output_type": "execute_result"
        },
        {
          "data": {
            "image/png": "[encoded data removed]",
            "text/plain": [
              "<Figure size 1000x1000 with 2 Axes>"
            ]
          },
          "metadata": {},
          "output_type": "display_data"
        }
      ],
      "source": [
        "## checking correlation\n",
        "plt.figure(figsize=(10,10))\n",
        "sns.heatmap(preprocessed_data.corr(),annot=True,annot_kws={\"size\": 7})"
      ]
    },
    {
      "cell_type": "code",
      "execution_count": null,
      "metadata": {
        "id": "nSIRty5l1RM2"
      },
      "outputs": [],
      "source": [
        "preprocessed_data.drop([\"Gender_Male\",\"Married_Yes\",\"Education_Graduate\",\"Self_Employed_Yes\"],axis=1,inplace=True)"
      ]
    },
    {
      "cell_type": "code",
      "execution_count": null,
      "metadata": {
        "id": "yKaEvfsItV6V",
        "outputId": "8ce0a89d-261b-40e0-881c-e22555b728c8"
      },
      "outputs": [
        {
          "data": {
            "text/html": [
              "<div>\n",
              "<style scoped>\n",
              "    .dataframe tbody tr th:only-of-type {\n",
              "        vertical-align: middle;\n",
              "    }\n",
              "\n",
              "    .dataframe tbody tr th {\n",
              "        vertical-align: top;\n",
              "    }\n",
              "\n",
              "    .dataframe thead th {\n",
              "        text-align: right;\n",
              "    }\n",
              "</style>\n",
              "<table border=\"1\" class=\"dataframe\">\n",
              "  <thead>\n",
              "    <tr style=\"text-align: right;\">\n",
              "      <th></th>\n",
              "      <th>ApplicantIncome</th>\n",
              "      <th>CoapplicantIncome</th>\n",
              "      <th>LoanAmount</th>\n",
              "      <th>Loan_Amount_Term</th>\n",
              "      <th>Credit_History</th>\n",
              "      <th>Gender_Female</th>\n",
              "      <th>Married_No</th>\n",
              "      <th>Education_Not Graduate</th>\n",
              "      <th>Property_Area_Semiurban</th>\n",
              "      <th>Property_Area_Urban</th>\n",
              "      <th>Dependents_1</th>\n",
              "      <th>Dependents_2</th>\n",
              "      <th>Dependents_3+</th>\n",
              "      <th>Self_Employed_No</th>\n",
              "    </tr>\n",
              "  </thead>\n",
              "  <tbody>\n",
              "    <tr>\n",
              "      <th>count</th>\n",
              "      <td>614.000000</td>\n",
              "      <td>614.000000</td>\n",
              "      <td>614.000000</td>\n",
              "      <td>614.000000</td>\n",
              "      <td>614.000000</td>\n",
              "      <td>614.000000</td>\n",
              "      <td>614.000000</td>\n",
              "      <td>614.000000</td>\n",
              "      <td>614.000000</td>\n",
              "      <td>614.000000</td>\n",
              "      <td>614.000000</td>\n",
              "      <td>614.000000</td>\n",
              "      <td>614.000000</td>\n",
              "      <td>614.000000</td>\n",
              "    </tr>\n",
              "    <tr>\n",
              "      <th>mean</th>\n",
              "      <td>0.064978</td>\n",
              "      <td>0.038910</td>\n",
              "      <td>0.197905</td>\n",
              "      <td>28.534202</td>\n",
              "      <td>0.773616</td>\n",
              "      <td>0.182410</td>\n",
              "      <td>0.346906</td>\n",
              "      <td>0.218241</td>\n",
              "      <td>0.379479</td>\n",
              "      <td>0.328990</td>\n",
              "      <td>0.166124</td>\n",
              "      <td>0.164495</td>\n",
              "      <td>0.107492</td>\n",
              "      <td>0.866450</td>\n",
              "    </tr>\n",
              "    <tr>\n",
              "      <th>std</th>\n",
              "      <td>0.075560</td>\n",
              "      <td>0.070229</td>\n",
              "      <td>0.121718</td>\n",
              "      <td>5.369052</td>\n",
              "      <td>0.418832</td>\n",
              "      <td>0.386497</td>\n",
              "      <td>0.476373</td>\n",
              "      <td>0.413389</td>\n",
              "      <td>0.485653</td>\n",
              "      <td>0.470229</td>\n",
              "      <td>0.372495</td>\n",
              "      <td>0.371027</td>\n",
              "      <td>0.309990</td>\n",
              "      <td>0.340446</td>\n",
              "    </tr>\n",
              "    <tr>\n",
              "      <th>min</th>\n",
              "      <td>0.000000</td>\n",
              "      <td>0.000000</td>\n",
              "      <td>0.000000</td>\n",
              "      <td>1.000000</td>\n",
              "      <td>0.000000</td>\n",
              "      <td>0.000000</td>\n",
              "      <td>0.000000</td>\n",
              "      <td>0.000000</td>\n",
              "      <td>0.000000</td>\n",
              "      <td>0.000000</td>\n",
              "      <td>0.000000</td>\n",
              "      <td>0.000000</td>\n",
              "      <td>0.000000</td>\n",
              "      <td>0.000000</td>\n",
              "    </tr>\n",
              "    <tr>\n",
              "      <th>25%</th>\n",
              "      <td>0.033735</td>\n",
              "      <td>0.000000</td>\n",
              "      <td>0.132055</td>\n",
              "      <td>30.000000</td>\n",
              "      <td>1.000000</td>\n",
              "      <td>0.000000</td>\n",
              "      <td>0.000000</td>\n",
              "      <td>0.000000</td>\n",
              "      <td>0.000000</td>\n",
              "      <td>0.000000</td>\n",
              "      <td>0.000000</td>\n",
              "      <td>0.000000</td>\n",
              "      <td>0.000000</td>\n",
              "      <td>1.000000</td>\n",
              "    </tr>\n",
              "    <tr>\n",
              "      <th>50%</th>\n",
              "      <td>0.045300</td>\n",
              "      <td>0.028524</td>\n",
              "      <td>0.172214</td>\n",
              "      <td>30.000000</td>\n",
              "      <td>1.000000</td>\n",
              "      <td>0.000000</td>\n",
              "      <td>0.000000</td>\n",
              "      <td>0.000000</td>\n",
              "      <td>0.000000</td>\n",
              "      <td>0.000000</td>\n",
              "      <td>0.000000</td>\n",
              "      <td>0.000000</td>\n",
              "      <td>0.000000</td>\n",
              "      <td>1.000000</td>\n",
              "    </tr>\n",
              "    <tr>\n",
              "      <th>75%</th>\n",
              "      <td>0.069821</td>\n",
              "      <td>0.055134</td>\n",
              "      <td>0.225398</td>\n",
              "      <td>30.000000</td>\n",
              "      <td>1.000000</td>\n",
              "      <td>0.000000</td>\n",
              "      <td>1.000000</td>\n",
              "      <td>0.000000</td>\n",
              "      <td>1.000000</td>\n",
              "      <td>1.000000</td>\n",
              "      <td>0.000000</td>\n",
              "      <td>0.000000</td>\n",
              "      <td>0.000000</td>\n",
              "      <td>1.000000</td>\n",
              "    </tr>\n",
              "    <tr>\n",
              "      <th>max</th>\n",
              "      <td>1.000000</td>\n",
              "      <td>1.000000</td>\n",
              "      <td>1.000000</td>\n",
              "      <td>40.000000</td>\n",
              "      <td>1.000000</td>\n",
              "      <td>1.000000</td>\n",
              "      <td>1.000000</td>\n",
              "      <td>1.000000</td>\n",
              "      <td>1.000000</td>\n",
              "      <td>1.000000</td>\n",
              "      <td>1.000000</td>\n",
              "      <td>1.000000</td>\n",
              "      <td>1.000000</td>\n",
              "      <td>1.000000</td>\n",
              "    </tr>\n",
              "  </tbody>\n",
              "</table>\n",
              "</div>"
            ],
            "text/plain": [
              "       ApplicantIncome  CoapplicantIncome  LoanAmount  Loan_Amount_Term  \\\n",
              "count       614.000000         614.000000  614.000000        614.000000   \n",
              "mean          0.064978           0.038910    0.197905         28.534202   \n",
              "std           0.075560           0.070229    0.121718          5.369052   \n",
              "min           0.000000           0.000000    0.000000          1.000000   \n",
              "25%           0.033735           0.000000    0.132055         30.000000   \n",
              "50%           0.045300           0.028524    0.172214         30.000000   \n",
              "75%           0.069821           0.055134    0.225398         30.000000   \n",
              "max           1.000000           1.000000    1.000000         40.000000   \n",
              "\n",
              "       Credit_History  Gender_Female  Married_No  Education_Not Graduate  \\\n",
              "count      614.000000     614.000000  614.000000              614.000000   \n",
              "mean         0.773616       0.182410    0.346906                0.218241   \n",
              "std          0.418832       0.386497    0.476373                0.413389   \n",
              "min          0.000000       0.000000    0.000000                0.000000   \n",
              "25%          1.000000       0.000000    0.000000                0.000000   \n",
              "50%          1.000000       0.000000    0.000000                0.000000   \n",
              "75%          1.000000       0.000000    1.000000                0.000000   \n",
              "max          1.000000       1.000000    1.000000                1.000000   \n",
              "\n",
              "       Property_Area_Semiurban  Property_Area_Urban  Dependents_1  \\\n",
              "count               614.000000           614.000000    614.000000   \n",
              "mean                  0.379479             0.328990      0.166124   \n",
              "std                   0.485653             0.470229      0.372495   \n",
              "min                   0.000000             0.000000      0.000000   \n",
              "25%                   0.000000             0.000000      0.000000   \n",
              "50%                   0.000000             0.000000      0.000000   \n",
              "75%                   1.000000             1.000000      0.000000   \n",
              "max                   1.000000             1.000000      1.000000   \n",
              "\n",
              "       Dependents_2  Dependents_3+  Self_Employed_No  \n",
              "count    614.000000     614.000000        614.000000  \n",
              "mean       0.164495       0.107492          0.866450  \n",
              "std        0.371027       0.309990          0.340446  \n",
              "min        0.000000       0.000000          0.000000  \n",
              "25%        0.000000       0.000000          1.000000  \n",
              "50%        0.000000       0.000000          1.000000  \n",
              "75%        0.000000       0.000000          1.000000  \n",
              "max        1.000000       1.000000          1.000000  "
            ]
          },
          "execution_count": 9,
          "metadata": {},
          "output_type": "execute_result"
        }
      ],
      "source": [
        "preprocessed_data.describe() ## no constant features"
      ]
    },
    {
      "cell_type": "code",
      "execution_count": null,
      "metadata": {
        "id": "ka5HXtV7tV6Z",
        "outputId": "9fe5b56e-5328-46e3-c0b0-74399a43ea9e"
      },
      "outputs": [
        {
          "data": {
            "text/html": [
              "<div>\n",
              "<style scoped>\n",
              "    .dataframe tbody tr th:only-of-type {\n",
              "        vertical-align: middle;\n",
              "    }\n",
              "\n",
              "    .dataframe tbody tr th {\n",
              "        vertical-align: top;\n",
              "    }\n",
              "\n",
              "    .dataframe thead th {\n",
              "        text-align: right;\n",
              "    }\n",
              "</style>\n",
              "<table border=\"1\" class=\"dataframe\">\n",
              "  <thead>\n",
              "    <tr style=\"text-align: right;\">\n",
              "      <th></th>\n",
              "      <th>ApplicantIncome</th>\n",
              "      <th>CoapplicantIncome</th>\n",
              "      <th>LoanAmount</th>\n",
              "      <th>Loan_Amount_Term</th>\n",
              "      <th>Credit_History</th>\n",
              "      <th>Loan_Status</th>\n",
              "      <th>Gender_Female</th>\n",
              "      <th>Married_No</th>\n",
              "      <th>Education_Not Graduate</th>\n",
              "      <th>Property_Area_Semiurban</th>\n",
              "      <th>Property_Area_Urban</th>\n",
              "      <th>Dependents_1</th>\n",
              "      <th>Dependents_2</th>\n",
              "      <th>Dependents_3+</th>\n",
              "      <th>Self_Employed_No</th>\n",
              "    </tr>\n",
              "  </thead>\n",
              "  <tbody>\n",
              "    <tr>\n",
              "      <th>0</th>\n",
              "      <td>0.070489</td>\n",
              "      <td>0.000000</td>\n",
              "      <td>0.172214</td>\n",
              "      <td>30.0</td>\n",
              "      <td>1.0</td>\n",
              "      <td>Y</td>\n",
              "      <td>0</td>\n",
              "      <td>1</td>\n",
              "      <td>0</td>\n",
              "      <td>0</td>\n",
              "      <td>1</td>\n",
              "      <td>0</td>\n",
              "      <td>0</td>\n",
              "      <td>0</td>\n",
              "      <td>1</td>\n",
              "    </tr>\n",
              "    <tr>\n",
              "      <th>1</th>\n",
              "      <td>0.054830</td>\n",
              "      <td>0.036192</td>\n",
              "      <td>0.172214</td>\n",
              "      <td>30.0</td>\n",
              "      <td>1.0</td>\n",
              "      <td>N</td>\n",
              "      <td>0</td>\n",
              "      <td>0</td>\n",
              "      <td>0</td>\n",
              "      <td>0</td>\n",
              "      <td>0</td>\n",
              "      <td>1</td>\n",
              "      <td>0</td>\n",
              "      <td>0</td>\n",
              "      <td>1</td>\n",
              "    </tr>\n",
              "    <tr>\n",
              "      <th>2</th>\n",
              "      <td>0.035250</td>\n",
              "      <td>0.000000</td>\n",
              "      <td>0.082489</td>\n",
              "      <td>30.0</td>\n",
              "      <td>1.0</td>\n",
              "      <td>Y</td>\n",
              "      <td>0</td>\n",
              "      <td>0</td>\n",
              "      <td>0</td>\n",
              "      <td>0</td>\n",
              "      <td>1</td>\n",
              "      <td>0</td>\n",
              "      <td>0</td>\n",
              "      <td>0</td>\n",
              "      <td>0</td>\n",
              "    </tr>\n",
              "    <tr>\n",
              "      <th>3</th>\n",
              "      <td>0.030093</td>\n",
              "      <td>0.056592</td>\n",
              "      <td>0.160637</td>\n",
              "      <td>30.0</td>\n",
              "      <td>1.0</td>\n",
              "      <td>Y</td>\n",
              "      <td>0</td>\n",
              "      <td>0</td>\n",
              "      <td>1</td>\n",
              "      <td>0</td>\n",
              "      <td>1</td>\n",
              "      <td>0</td>\n",
              "      <td>0</td>\n",
              "      <td>0</td>\n",
              "      <td>1</td>\n",
              "    </tr>\n",
              "    <tr>\n",
              "      <th>4</th>\n",
              "      <td>0.072356</td>\n",
              "      <td>0.000000</td>\n",
              "      <td>0.191027</td>\n",
              "      <td>30.0</td>\n",
              "      <td>1.0</td>\n",
              "      <td>Y</td>\n",
              "      <td>0</td>\n",
              "      <td>1</td>\n",
              "      <td>0</td>\n",
              "      <td>0</td>\n",
              "      <td>1</td>\n",
              "      <td>0</td>\n",
              "      <td>0</td>\n",
              "      <td>0</td>\n",
              "      <td>1</td>\n",
              "    </tr>\n",
              "  </tbody>\n",
              "</table>\n",
              "</div>"
            ],
            "text/plain": [
              "   ApplicantIncome  CoapplicantIncome  LoanAmount  Loan_Amount_Term  \\\n",
              "0         0.070489           0.000000    0.172214              30.0   \n",
              "1         0.054830           0.036192    0.172214              30.0   \n",
              "2         0.035250           0.000000    0.082489              30.0   \n",
              "3         0.030093           0.056592    0.160637              30.0   \n",
              "4         0.072356           0.000000    0.191027              30.0   \n",
              "\n",
              "   Credit_History Loan_Status  Gender_Female  Married_No  \\\n",
              "0             1.0           Y              0           1   \n",
              "1             1.0           N              0           0   \n",
              "2             1.0           Y              0           0   \n",
              "3             1.0           Y              0           0   \n",
              "4             1.0           Y              0           1   \n",
              "\n",
              "   Education_Not Graduate  Property_Area_Semiurban  Property_Area_Urban  \\\n",
              "0                       0                        0                    1   \n",
              "1                       0                        0                    0   \n",
              "2                       0                        0                    1   \n",
              "3                       1                        0                    1   \n",
              "4                       0                        0                    1   \n",
              "\n",
              "   Dependents_1  Dependents_2  Dependents_3+  Self_Employed_No  \n",
              "0             0             0              0                 1  \n",
              "1             1             0              0                 1  \n",
              "2             0             0              0                 0  \n",
              "3             0             0              0                 1  \n",
              "4             0             0              0                 1  "
            ]
          },
          "execution_count": 10,
          "metadata": {},
          "output_type": "execute_result"
        }
      ],
      "source": [
        "preprocessed_data.head()"
      ]
    },
    {
      "cell_type": "markdown",
      "metadata": {
        "id": "gDukLSkotV6a"
      },
      "source": [
        "## Model Creation"
      ]
    },
    {
      "cell_type": "code",
      "execution_count": null,
      "metadata": {
        "id": "8ndkXCvF9gCA"
      },
      "outputs": [],
      "source": [
        "preprocessed_data.Loan_Status=preprocessed_data.Loan_Status.map({'Y':1,'N':0})\n",
        "#Task: What is the difference between map and Replace Function"
      ]
    },
    {
      "cell_type": "code",
      "execution_count": null,
      "metadata": {
        "id": "AJi9Zfrx9gB_",
        "outputId": "1a8108af-5f2d-406d-ee49-7e984a69fc29"
      },
      "outputs": [
        {
          "data": {
            "text/html": [
              "<div>\n",
              "<style scoped>\n",
              "    .dataframe tbody tr th:only-of-type {\n",
              "        vertical-align: middle;\n",
              "    }\n",
              "\n",
              "    .dataframe tbody tr th {\n",
              "        vertical-align: top;\n",
              "    }\n",
              "\n",
              "    .dataframe thead th {\n",
              "        text-align: right;\n",
              "    }\n",
              "</style>\n",
              "<table border=\"1\" class=\"dataframe\">\n",
              "  <thead>\n",
              "    <tr style=\"text-align: right;\">\n",
              "      <th></th>\n",
              "      <th>ApplicantIncome</th>\n",
              "      <th>CoapplicantIncome</th>\n",
              "      <th>LoanAmount</th>\n",
              "      <th>Loan_Amount_Term</th>\n",
              "      <th>Credit_History</th>\n",
              "      <th>Loan_Status</th>\n",
              "      <th>Gender_Female</th>\n",
              "      <th>Married_No</th>\n",
              "      <th>Education_Not Graduate</th>\n",
              "      <th>Property_Area_Semiurban</th>\n",
              "      <th>Property_Area_Urban</th>\n",
              "      <th>Dependents_1</th>\n",
              "      <th>Dependents_2</th>\n",
              "      <th>Dependents_3+</th>\n",
              "      <th>Self_Employed_No</th>\n",
              "    </tr>\n",
              "  </thead>\n",
              "  <tbody>\n",
              "    <tr>\n",
              "      <th>0</th>\n",
              "      <td>0.070489</td>\n",
              "      <td>0.000000</td>\n",
              "      <td>0.172214</td>\n",
              "      <td>30.0</td>\n",
              "      <td>1.0</td>\n",
              "      <td>1</td>\n",
              "      <td>0</td>\n",
              "      <td>1</td>\n",
              "      <td>0</td>\n",
              "      <td>0</td>\n",
              "      <td>1</td>\n",
              "      <td>0</td>\n",
              "      <td>0</td>\n",
              "      <td>0</td>\n",
              "      <td>1</td>\n",
              "    </tr>\n",
              "    <tr>\n",
              "      <th>1</th>\n",
              "      <td>0.054830</td>\n",
              "      <td>0.036192</td>\n",
              "      <td>0.172214</td>\n",
              "      <td>30.0</td>\n",
              "      <td>1.0</td>\n",
              "      <td>0</td>\n",
              "      <td>0</td>\n",
              "      <td>0</td>\n",
              "      <td>0</td>\n",
              "      <td>0</td>\n",
              "      <td>0</td>\n",
              "      <td>1</td>\n",
              "      <td>0</td>\n",
              "      <td>0</td>\n",
              "      <td>1</td>\n",
              "    </tr>\n",
              "    <tr>\n",
              "      <th>2</th>\n",
              "      <td>0.035250</td>\n",
              "      <td>0.000000</td>\n",
              "      <td>0.082489</td>\n",
              "      <td>30.0</td>\n",
              "      <td>1.0</td>\n",
              "      <td>1</td>\n",
              "      <td>0</td>\n",
              "      <td>0</td>\n",
              "      <td>0</td>\n",
              "      <td>0</td>\n",
              "      <td>1</td>\n",
              "      <td>0</td>\n",
              "      <td>0</td>\n",
              "      <td>0</td>\n",
              "      <td>0</td>\n",
              "    </tr>\n",
              "    <tr>\n",
              "      <th>3</th>\n",
              "      <td>0.030093</td>\n",
              "      <td>0.056592</td>\n",
              "      <td>0.160637</td>\n",
              "      <td>30.0</td>\n",
              "      <td>1.0</td>\n",
              "      <td>1</td>\n",
              "      <td>0</td>\n",
              "      <td>0</td>\n",
              "      <td>1</td>\n",
              "      <td>0</td>\n",
              "      <td>1</td>\n",
              "      <td>0</td>\n",
              "      <td>0</td>\n",
              "      <td>0</td>\n",
              "      <td>1</td>\n",
              "    </tr>\n",
              "    <tr>\n",
              "      <th>4</th>\n",
              "      <td>0.072356</td>\n",
              "      <td>0.000000</td>\n",
              "      <td>0.191027</td>\n",
              "      <td>30.0</td>\n",
              "      <td>1.0</td>\n",
              "      <td>1</td>\n",
              "      <td>0</td>\n",
              "      <td>1</td>\n",
              "      <td>0</td>\n",
              "      <td>0</td>\n",
              "      <td>1</td>\n",
              "      <td>0</td>\n",
              "      <td>0</td>\n",
              "      <td>0</td>\n",
              "      <td>1</td>\n",
              "    </tr>\n",
              "  </tbody>\n",
              "</table>\n",
              "</div>"
            ],
            "text/plain": [
              "   ApplicantIncome  CoapplicantIncome  LoanAmount  Loan_Amount_Term  \\\n",
              "0         0.070489           0.000000    0.172214              30.0   \n",
              "1         0.054830           0.036192    0.172214              30.0   \n",
              "2         0.035250           0.000000    0.082489              30.0   \n",
              "3         0.030093           0.056592    0.160637              30.0   \n",
              "4         0.072356           0.000000    0.191027              30.0   \n",
              "\n",
              "   Credit_History  Loan_Status  Gender_Female  Married_No  \\\n",
              "0             1.0            1              0           1   \n",
              "1             1.0            0              0           0   \n",
              "2             1.0            1              0           0   \n",
              "3             1.0            1              0           0   \n",
              "4             1.0            1              0           1   \n",
              "\n",
              "   Education_Not Graduate  Property_Area_Semiurban  Property_Area_Urban  \\\n",
              "0                       0                        0                    1   \n",
              "1                       0                        0                    0   \n",
              "2                       0                        0                    1   \n",
              "3                       1                        0                    1   \n",
              "4                       0                        0                    1   \n",
              "\n",
              "   Dependents_1  Dependents_2  Dependents_3+  Self_Employed_No  \n",
              "0             0             0              0                 1  \n",
              "1             1             0              0                 1  \n",
              "2             0             0              0                 0  \n",
              "3             0             0              0                 1  \n",
              "4             0             0              0                 1  "
            ]
          },
          "execution_count": 12,
          "metadata": {},
          "output_type": "execute_result"
        }
      ],
      "source": [
        "preprocessed_data.head()"
      ]
    },
    {
      "cell_type": "code",
      "execution_count": null,
      "metadata": {
        "id": "XeGM01St1RM-"
      },
      "outputs": [],
      "source": [
        "## defining X and y\n",
        "X=preprocessed_data.iloc[:,:].drop(\"Loan_Status\",axis=1)\n",
        "y=preprocessed_data.Loan_Status"
      ]
    },
    {
      "cell_type": "code",
      "execution_count": null,
      "metadata": {
        "id": "0mPjsfhJYJ2c"
      },
      "outputs": [],
      "source": [
        "## creating training and testing data\n",
        "from sklearn.model_selection import train_test_split\n",
        "X_train,X_test,y_train,y_test=train_test_split(X, y,random_state=42)"
      ]
    },
    {
      "cell_type": "code",
      "execution_count": null,
      "metadata": {
        "id": "u7hUShby1RNA",
        "outputId": "57a38366-f6a7-4eaa-d95e-bdff3aa2b47b"
      },
      "outputs": [
        {
          "data": {
            "text/plain": [
              "1    322\n",
              "0    138\n",
              "Name: Loan_Status, dtype: int64"
            ]
          },
          "execution_count": 15,
          "metadata": {},
          "output_type": "execute_result"
        }
      ],
      "source": [
        "y_train.value_counts()"
      ]
    },
    {
      "cell_type": "code",
      "execution_count": null,
      "metadata": {
        "id": "oWVsBTJG1RNB"
      },
      "outputs": [],
      "source": [
        "# Install imblearn package -\n",
        "#!pip install imblearn"
      ]
    },
    {
      "cell_type": "code",
      "execution_count": null,
      "metadata": {
        "id": "k0ctwtZ7tV6c"
      },
      "outputs": [],
      "source": [
        "from imblearn.over_sampling import SMOTE\n",
        "smote = SMOTE()"
      ]
    },
    {
      "cell_type": "code",
      "execution_count": null,
      "metadata": {
        "id": "v3TXlCyitV6c"
      },
      "outputs": [],
      "source": [
        "X_smote, y_smote = smote.fit_resample(X_train,y_train)"
      ]
    },
    {
      "cell_type": "code",
      "execution_count": null,
      "metadata": {
        "id": "yr4KJJc01RNM",
        "outputId": "36cbf347-3e9b-4878-a74f-e6742891110a"
      },
      "outputs": [
        {
          "data": {
            "text/plain": [
              "1    322\n",
              "0    322\n",
              "Name: Loan_Status, dtype: int64"
            ]
          },
          "execution_count": 19,
          "metadata": {},
          "output_type": "execute_result"
        }
      ],
      "source": [
        "y_smote.value_counts()"
      ]
    },
    {
      "cell_type": "markdown",
      "metadata": {
        "id": "bvDuIc2JtV6d"
      },
      "source": [
        "**Counter** is a container which keeps track to how many times equivalent values are added. Python counter class is a part of collections module and is a subclass of dictionary."
      ]
    },
    {
      "cell_type": "code",
      "execution_count": null,
      "metadata": {
        "colab": {
          "base_uri": "https://localhost:8080/"
        },
        "id": "TL38U59ptV6e",
        "outputId": "d4ac5784-d673-4f04-d74e-9ee6323663b7"
      },
      "outputs": [
        {
          "name": "stdout",
          "output_type": "stream",
          "text": [
            "Actual Classes Counter({1: 322, 0: 138})\n",
            "SMOTE Classes Counter({1: 322, 0: 322})\n"
          ]
        }
      ],
      "source": [
        "from collections import Counter\n",
        "print(\"Actual Classes\",Counter(y_train))\n",
        "print(\"SMOTE Classes\",Counter(y_smote))"
      ]
    },
    {
      "cell_type": "code",
      "execution_count": null,
      "metadata": {
        "colab": {
          "base_uri": "https://localhost:8080/"
        },
        "id": "NI4prSahtV6f",
        "outputId": "f880b2d6-6da3-44c0-e691-5220a9aff44f"
      },
      "outputs": [
        {
          "data": {
            "text/html": [
              "<style>#sk-container-id-1 {color: black;background-color: white;}#sk-container-id-1 pre{padding: 0;}#sk-container-id-1 div.sk-toggleable {background-color: white;}#sk-container-id-1 label.sk-toggleable__label {cursor: pointer;display: block;width: 100%;margin-bottom: 0;padding: 0.3em;box-sizing: border-box;text-align: center;}#sk-container-id-1 label.sk-toggleable__label-arrow:before {content: \"▸\";float: left;margin-right: 0.25em;color: #696969;}#sk-container-id-1 label.sk-toggleable__label-arrow:hover:before {color: black;}#sk-container-id-1 div.sk-estimator:hover label.sk-toggleable__label-arrow:before {color: black;}#sk-container-id-1 div.sk-toggleable__content {max-height: 0;max-width: 0;overflow: hidden;text-align: left;background-color: #f0f8ff;}#sk-container-id-1 div.sk-toggleable__content pre {margin: 0.2em;color: black;border-radius: 0.25em;background-color: #f0f8ff;}#sk-container-id-1 input.sk-toggleable__control:checked~div.sk-toggleable__content {max-height: 200px;max-width: 100%;overflow: auto;}#sk-container-id-1 input.sk-toggleable__control:checked~label.sk-toggleable__label-arrow:before {content: \"▾\";}#sk-container-id-1 div.sk-estimator input.sk-toggleable__control:checked~label.sk-toggleable__label {background-color: #d4ebff;}#sk-container-id-1 div.sk-label input.sk-toggleable__control:checked~label.sk-toggleable__label {background-color: #d4ebff;}#sk-container-id-1 input.sk-hidden--visually {border: 0;clip: rect(1px 1px 1px 1px);clip: rect(1px, 1px, 1px, 1px);height: 1px;margin: -1px;overflow: hidden;padding: 0;position: absolute;width: 1px;}#sk-container-id-1 div.sk-estimator {font-family: monospace;background-color: #f0f8ff;border: 1px dotted black;border-radius: 0.25em;box-sizing: border-box;margin-bottom: 0.5em;}#sk-container-id-1 div.sk-estimator:hover {background-color: #d4ebff;}#sk-container-id-1 div.sk-parallel-item::after {content: \"\";width: 100%;border-bottom: 1px solid gray;flex-grow: 1;}#sk-container-id-1 div.sk-label:hover label.sk-toggleable__label {background-color: #d4ebff;}#sk-container-id-1 div.sk-serial::before {content: \"\";position: absolute;border-left: 1px solid gray;box-sizing: border-box;top: 0;bottom: 0;left: 50%;z-index: 0;}#sk-container-id-1 div.sk-serial {display: flex;flex-direction: column;align-items: center;background-color: white;padding-right: 0.2em;padding-left: 0.2em;position: relative;}#sk-container-id-1 div.sk-item {position: relative;z-index: 1;}#sk-container-id-1 div.sk-parallel {display: flex;align-items: stretch;justify-content: center;background-color: white;position: relative;}#sk-container-id-1 div.sk-item::before, #sk-container-id-1 div.sk-parallel-item::before {content: \"\";position: absolute;border-left: 1px solid gray;box-sizing: border-box;top: 0;bottom: 0;left: 50%;z-index: -1;}#sk-container-id-1 div.sk-parallel-item {display: flex;flex-direction: column;z-index: 1;position: relative;background-color: white;}#sk-container-id-1 div.sk-parallel-item:first-child::after {align-self: flex-end;width: 50%;}#sk-container-id-1 div.sk-parallel-item:last-child::after {align-self: flex-start;width: 50%;}#sk-container-id-1 div.sk-parallel-item:only-child::after {width: 0;}#sk-container-id-1 div.sk-dashed-wrapped {border: 1px dashed gray;margin: 0 0.4em 0.5em 0.4em;box-sizing: border-box;padding-bottom: 0.4em;background-color: white;}#sk-container-id-1 div.sk-label label {font-family: monospace;font-weight: bold;display: inline-block;line-height: 1.2em;}#sk-container-id-1 div.sk-label-container {text-align: center;}#sk-container-id-1 div.sk-container {/* jupyter's `normalize.less` sets `[hidden] { display: none; }` but bootstrap.min.css set `[hidden] { display: none !important; }` so we also need the `!important` here to be able to override the default hidden behavior on the sphinx rendered scikit-learn.org. See: https://github.com/scikit-learn/scikit-learn/issues/21755 */display: inline-block !important;position: relative;}#sk-container-id-1 div.sk-text-repr-fallback {display: none;}</style><div id=\"sk-container-id-1\" class=\"sk-top-container\"><div class=\"sk-text-repr-fallback\"><pre>SVC()</pre><b>In a Jupyter environment, please rerun this cell to show the HTML representation or trust the notebook. <br />On GitHub, the HTML representation is unable to render, please try loading this page with nbviewer.org.</b></div><div class=\"sk-container\" hidden><div class=\"sk-item\"><div class=\"sk-estimator sk-toggleable\"><input class=\"sk-toggleable__control sk-hidden--visually\" id=\"sk-estimator-id-1\" type=\"checkbox\" checked><label for=\"sk-estimator-id-1\" class=\"sk-toggleable__label sk-toggleable__label-arrow\">SVC</label><div class=\"sk-toggleable__content\"><pre>SVC()</pre></div></div></div></div></div>"
            ],
            "text/plain": [
              "SVC()"
            ]
          },
          "execution_count": 21,
          "metadata": {},
          "output_type": "execute_result"
        }
      ],
      "source": [
        "# Support Vector Classifier Model\n",
        "from sklearn.svm import SVC\n",
        "svclassifier = SVC() ## base model with default parameters\n",
        "svclassifier.fit(X_smote, y_smote) #Training"
      ]
    },
    {
      "cell_type": "code",
      "execution_count": null,
      "metadata": {
        "id": "zMNKY_yktV6g"
      },
      "outputs": [],
      "source": [
        "# Predict output for X_test\n",
        "y_hat=svclassifier.predict(X_test)"
      ]
    },
    {
      "cell_type": "code",
      "execution_count": null,
      "metadata": {
        "colab": {
          "base_uri": "https://localhost:8080/"
        },
        "id": "6go1mkZDtV6g",
        "outputId": "c0a9d291-7a5f-4e4b-cf6f-0f2435c2395d"
      },
      "outputs": [
        {
          "data": {
            "text/plain": [
              "0.6363636363636364"
            ]
          },
          "execution_count": 23,
          "metadata": {},
          "output_type": "execute_result"
        }
      ],
      "source": [
        "## evaluating the model created\n",
        "from sklearn.metrics import accuracy_score,classification_report\n",
        "acc=accuracy_score(y_test,y_hat) # Actual and Prediction\n",
        "acc"
      ]
    },
    {
      "cell_type": "code",
      "execution_count": null,
      "metadata": {
        "colab": {
          "base_uri": "https://localhost:8080/"
        },
        "collapsed": true,
        "id": "rvDYV_2CtV6h",
        "outputId": "2de8255f-017e-480c-b654-ef376084b482"
      },
      "outputs": [
        {
          "name": "stdout",
          "output_type": "stream",
          "text": [
            "              precision    recall  f1-score   support\n",
            "\n",
            "           0       0.33      0.04      0.07        54\n",
            "           1       0.65      0.96      0.77       100\n",
            "\n",
            "    accuracy                           0.64       154\n",
            "   macro avg       0.49      0.50      0.42       154\n",
            "weighted avg       0.54      0.64      0.53       154\n",
            "\n"
          ]
        }
      ],
      "source": [
        "# Calssification report measures the quality of predictions. True Positives, False Positives, True negatives and False Negatives\n",
        "# are used to predict the metrics of a classification report\n",
        "\n",
        "print(classification_report(y_test,y_hat))#Actual and Prediction"
      ]
    },
    {
      "cell_type": "code",
      "execution_count": null,
      "metadata": {
        "id": "0-CJj_Pi1RNT"
      },
      "outputs": [],
      "source": [
        "from sklearn.model_selection import cross_val_score"
      ]
    },
    {
      "cell_type": "code",
      "execution_count": null,
      "metadata": {
        "colab": {
          "base_uri": "https://localhost:8080/"
        },
        "id": "2HBnMx7otV6l",
        "outputId": "a0b49125-2dfe-480d-c0cc-8f060c67ee0f"
      },
      "outputs": [
        {
          "name": "stderr",
          "output_type": "stream",
          "text": [
            "[Parallel(n_jobs=-1)]: Using backend LokyBackend with 4 concurrent workers.\n",
            "[Parallel(n_jobs=-1)]: Done   7 out of  10 | elapsed:    8.4s remaining:    3.5s\n"
          ]
        },
        {
          "name": "stdout",
          "output_type": "stream",
          "text": [
            "[0.69354839 0.69354839 0.67741935 0.67741935 0.68852459 0.68852459\n",
            " 0.68852459 0.68852459 0.68852459 0.68852459]\n",
            "Cross validation Score: 0.6873083024854575\n",
            "Std : 0.005313530063281029\n"
          ]
        },
        {
          "name": "stderr",
          "output_type": "stream",
          "text": [
            "[Parallel(n_jobs=-1)]: Done  10 out of  10 | elapsed:    8.6s finished\n"
          ]
        }
      ],
      "source": [
        "## checking cross validation score\n",
        "from sklearn.model_selection import cross_val_score\n",
        "scores = cross_val_score(svclassifier,X,y,cv=10,scoring='accuracy',verbose = 3,n_jobs=-1)\n",
        "print(scores)\n",
        "print(\"Cross validation Score:\",scores.mean())\n",
        "print(\"Std :\",scores.std())\n",
        "#std of < 0.05 is good."
      ]
    },
    {
      "cell_type": "code",
      "execution_count": null,
      "metadata": {
        "id": "tdFjF4iHtV6y"
      },
      "outputs": [],
      "source": [
        "from sklearn.model_selection import GridSearchCV\n",
        "\n",
        "# defining parameter range\n",
        "param_grid = {'C': [1, 5, 10,30,60,70,100],\n",
        "              'gamma': [1, 0.1, 0.01, 0.001, 0.0001]\n",
        "             }\n",
        "model=SVC()\n",
        "grid = GridSearchCV(model, param_grid,verbose = 3,scoring='f1',cv=3)"
      ]
    },
    {
      "cell_type": "code",
      "execution_count": null,
      "metadata": {
        "collapsed": true,
        "id": "Ar9Qx8HN1RNh",
        "outputId": "9b1a0b66-457b-4baf-e63d-6fa429360732"
      },
      "outputs": [
        {
          "name": "stdout",
          "output_type": "stream",
          "text": [
            "Fitting 3 folds for each of 35 candidates, totalling 105 fits\n",
            "[CV 1/3] END ......................C=1, gamma=1;, score=0.853 total time=   0.0s\n",
            "[CV 2/3] END ......................C=1, gamma=1;, score=0.836 total time=   0.0s\n",
            "[CV 3/3] END ......................C=1, gamma=1;, score=0.840 total time=   0.0s\n",
            "[CV 1/3] END ....................C=1, gamma=0.1;, score=0.846 total time=   0.0s\n",
            "[CV 2/3] END ....................C=1, gamma=0.1;, score=0.817 total time=   0.0s\n",
            "[CV 3/3] END ....................C=1, gamma=0.1;, score=0.842 total time=   0.0s\n",
            "[CV 1/3] END ...................C=1, gamma=0.01;, score=0.815 total time=   0.0s\n",
            "[CV 2/3] END ...................C=1, gamma=0.01;, score=0.815 total time=   0.0s\n",
            "[CV 3/3] END ...................C=1, gamma=0.01;, score=0.809 total time=   0.0s\n",
            "[CV 1/3] END ..................C=1, gamma=0.001;, score=0.815 total time=   0.0s\n",
            "[CV 2/3] END ..................C=1, gamma=0.001;, score=0.815 total time=   0.0s\n",
            "[CV 3/3] END ..................C=1, gamma=0.001;, score=0.814 total time=   0.0s\n",
            "[CV 1/3] END .................C=1, gamma=0.0001;, score=0.815 total time=   0.0s\n",
            "[CV 2/3] END .................C=1, gamma=0.0001;, score=0.815 total time=   0.0s\n",
            "[CV 3/3] END .................C=1, gamma=0.0001;, score=0.814 total time=   0.0s\n",
            "[CV 1/3] END ......................C=5, gamma=1;, score=0.829 total time=   0.0s\n",
            "[CV 2/3] END ......................C=5, gamma=1;, score=0.807 total time=   0.0s\n",
            "[CV 3/3] END ......................C=5, gamma=1;, score=0.822 total time=   0.0s\n",
            "[CV 1/3] END ....................C=5, gamma=0.1;, score=0.847 total time=   0.0s\n",
            "[CV 2/3] END ....................C=5, gamma=0.1;, score=0.836 total time=   0.0s\n",
            "[CV 3/3] END ....................C=5, gamma=0.1;, score=0.855 total time=   0.0s\n",
            "[CV 1/3] END ...................C=5, gamma=0.01;, score=0.845 total time=   0.0s\n",
            "[CV 2/3] END ...................C=5, gamma=0.01;, score=0.821 total time=   0.0s\n",
            "[CV 3/3] END ...................C=5, gamma=0.01;, score=0.847 total time=   0.0s\n",
            "[CV 1/3] END ..................C=5, gamma=0.001;, score=0.815 total time=   0.0s\n",
            "[CV 2/3] END ..................C=5, gamma=0.001;, score=0.815 total time=   0.0s\n",
            "[CV 3/3] END ..................C=5, gamma=0.001;, score=0.814 total time=   0.0s\n",
            "[CV 1/3] END .................C=5, gamma=0.0001;, score=0.815 total time=   0.0s\n",
            "[CV 2/3] END .................C=5, gamma=0.0001;, score=0.815 total time=   0.0s\n",
            "[CV 3/3] END .................C=5, gamma=0.0001;, score=0.814 total time=   0.0s\n",
            "[CV 1/3] END .....................C=10, gamma=1;, score=0.829 total time=   0.0s\n",
            "[CV 2/3] END .....................C=10, gamma=1;, score=0.809 total time=   0.0s\n",
            "[CV 3/3] END .....................C=10, gamma=1;, score=0.809 total time=   0.0s\n",
            "[CV 1/3] END ...................C=10, gamma=0.1;, score=0.839 total time=   0.0s\n",
            "[CV 2/3] END ...................C=10, gamma=0.1;, score=0.832 total time=   0.0s\n",
            "[CV 3/3] END ...................C=10, gamma=0.1;, score=0.841 total time=   0.0s\n",
            "[CV 1/3] END ..................C=10, gamma=0.01;, score=0.854 total time=   0.0s\n",
            "[CV 2/3] END ..................C=10, gamma=0.01;, score=0.826 total time=   0.0s\n",
            "[CV 3/3] END ..................C=10, gamma=0.01;, score=0.846 total time=   0.0s\n",
            "[CV 1/3] END .................C=10, gamma=0.001;, score=0.816 total time=   0.0s\n",
            "[CV 2/3] END .................C=10, gamma=0.001;, score=0.815 total time=   0.0s\n",
            "[CV 3/3] END .................C=10, gamma=0.001;, score=0.809 total time=   0.0s\n",
            "[CV 1/3] END ................C=10, gamma=0.0001;, score=0.815 total time=   0.0s\n",
            "[CV 2/3] END ................C=10, gamma=0.0001;, score=0.815 total time=   0.0s\n",
            "[CV 3/3] END ................C=10, gamma=0.0001;, score=0.814 total time=   0.0s\n",
            "[CV 1/3] END .....................C=30, gamma=1;, score=0.821 total time=   0.0s\n",
            "[CV 2/3] END .....................C=30, gamma=1;, score=0.812 total time=   0.0s\n",
            "[CV 3/3] END .....................C=30, gamma=1;, score=0.797 total time=   0.0s\n",
            "[CV 1/3] END ...................C=30, gamma=0.1;, score=0.831 total time=   0.0s\n",
            "[CV 2/3] END ...................C=30, gamma=0.1;, score=0.827 total time=   0.0s\n",
            "[CV 3/3] END ...................C=30, gamma=0.1;, score=0.832 total time=   0.0s\n",
            "[CV 1/3] END ..................C=30, gamma=0.01;, score=0.853 total time=   0.0s\n",
            "[CV 2/3] END ..................C=30, gamma=0.01;, score=0.830 total time=   0.0s\n",
            "[CV 3/3] END ..................C=30, gamma=0.01;, score=0.855 total time=   0.0s\n",
            "[CV 1/3] END .................C=30, gamma=0.001;, score=0.850 total time=   0.0s\n",
            "[CV 2/3] END .................C=30, gamma=0.001;, score=0.822 total time=   0.0s\n",
            "[CV 3/3] END .................C=30, gamma=0.001;, score=0.860 total time=   0.0s\n",
            "[CV 1/3] END ................C=30, gamma=0.0001;, score=0.815 total time=   0.0s\n",
            "[CV 2/3] END ................C=30, gamma=0.0001;, score=0.815 total time=   0.0s\n",
            "[CV 3/3] END ................C=30, gamma=0.0001;, score=0.814 total time=   0.0s\n",
            "[CV 1/3] END .....................C=60, gamma=1;, score=0.780 total time=   0.0s\n",
            "[CV 2/3] END .....................C=60, gamma=1;, score=0.811 total time=   0.0s\n",
            "[CV 3/3] END .....................C=60, gamma=1;, score=0.792 total time=   0.0s\n",
            "[CV 1/3] END ...................C=60, gamma=0.1;, score=0.812 total time=   0.0s\n",
            "[CV 2/3] END ...................C=60, gamma=0.1;, score=0.801 total time=   0.0s\n",
            "[CV 3/3] END ...................C=60, gamma=0.1;, score=0.829 total time=   0.0s\n",
            "[CV 1/3] END ..................C=60, gamma=0.01;, score=0.849 total time=   0.0s\n",
            "[CV 2/3] END ..................C=60, gamma=0.01;, score=0.832 total time=   0.0s\n",
            "[CV 3/3] END ..................C=60, gamma=0.01;, score=0.855 total time=   0.0s\n",
            "[CV 1/3] END .................C=60, gamma=0.001;, score=0.850 total time=   0.0s\n",
            "[CV 2/3] END .................C=60, gamma=0.001;, score=0.822 total time=   0.0s\n",
            "[CV 3/3] END .................C=60, gamma=0.001;, score=0.860 total time=   0.0s\n",
            "[CV 1/3] END ................C=60, gamma=0.0001;, score=0.815 total time=   0.0s\n",
            "[CV 2/3] END ................C=60, gamma=0.0001;, score=0.815 total time=   0.0s\n",
            "[CV 3/3] END ................C=60, gamma=0.0001;, score=0.814 total time=   0.0s\n",
            "[CV 1/3] END .....................C=70, gamma=1;, score=0.782 total time=   0.0s\n",
            "[CV 2/3] END .....................C=70, gamma=1;, score=0.811 total time=   0.0s\n",
            "[CV 3/3] END .....................C=70, gamma=1;, score=0.796 total time=   0.0s\n",
            "[CV 1/3] END ...................C=70, gamma=0.1;, score=0.814 total time=   0.0s\n",
            "[CV 2/3] END ...................C=70, gamma=0.1;, score=0.797 total time=   0.0s\n",
            "[CV 3/3] END ...................C=70, gamma=0.1;, score=0.826 total time=   0.0s\n",
            "[CV 1/3] END ..................C=70, gamma=0.01;, score=0.849 total time=   0.0s\n",
            "[CV 2/3] END ..................C=70, gamma=0.01;, score=0.828 total time=   0.0s\n",
            "[CV 3/3] END ..................C=70, gamma=0.01;, score=0.851 total time=   0.0s\n",
            "[CV 1/3] END .................C=70, gamma=0.001;, score=0.850 total time=   0.0s\n",
            "[CV 2/3] END .................C=70, gamma=0.001;, score=0.822 total time=   0.0s\n",
            "[CV 3/3] END .................C=70, gamma=0.001;, score=0.860 total time=   0.0s\n",
            "[CV 1/3] END ................C=70, gamma=0.0001;, score=0.815 total time=   0.0s\n",
            "[CV 2/3] END ................C=70, gamma=0.0001;, score=0.815 total time=   0.0s\n",
            "[CV 3/3] END ................C=70, gamma=0.0001;, score=0.814 total time=   0.0s\n",
            "[CV 1/3] END ....................C=100, gamma=1;, score=0.775 total time=   0.0s\n",
            "[CV 2/3] END ....................C=100, gamma=1;, score=0.805 total time=   0.0s\n",
            "[CV 3/3] END ....................C=100, gamma=1;, score=0.789 total time=   0.0s\n",
            "[CV 1/3] END ..................C=100, gamma=0.1;, score=0.807 total time=   0.0s\n",
            "[CV 2/3] END ..................C=100, gamma=0.1;, score=0.792 total time=   0.0s\n",
            "[CV 3/3] END ..................C=100, gamma=0.1;, score=0.815 total time=   0.0s\n",
            "[CV 1/3] END .................C=100, gamma=0.01;, score=0.849 total time=   0.0s\n",
            "[CV 2/3] END .................C=100, gamma=0.01;, score=0.828 total time=   0.0s\n",
            "[CV 3/3] END .................C=100, gamma=0.01;, score=0.851 total time=   0.3s\n",
            "[CV 1/3] END ................C=100, gamma=0.001;, score=0.850 total time=   0.4s\n",
            "[CV 2/3] END ................C=100, gamma=0.001;, score=0.822 total time=   0.0s\n",
            "[CV 3/3] END ................C=100, gamma=0.001;, score=0.860 total time=   0.0s\n"
          ]
        },
        {
          "name": "stdout",
          "output_type": "stream",
          "text": [
            "[CV 1/3] END ...............C=100, gamma=0.0001;, score=0.815 total time=   0.0s\n",
            "[CV 2/3] END ...............C=100, gamma=0.0001;, score=0.815 total time=   0.0s\n",
            "[CV 3/3] END ...............C=100, gamma=0.0001;, score=0.814 total time=   0.0s\n"
          ]
        },
        {
          "data": {
            "text/html": [
              "<style>#sk-container-id-5 {color: black;background-color: white;}#sk-container-id-5 pre{padding: 0;}#sk-container-id-5 div.sk-toggleable {background-color: white;}#sk-container-id-5 label.sk-toggleable__label {cursor: pointer;display: block;width: 100%;margin-bottom: 0;padding: 0.3em;box-sizing: border-box;text-align: center;}#sk-container-id-5 label.sk-toggleable__label-arrow:before {content: \"▸\";float: left;margin-right: 0.25em;color: #696969;}#sk-container-id-5 label.sk-toggleable__label-arrow:hover:before {color: black;}#sk-container-id-5 div.sk-estimator:hover label.sk-toggleable__label-arrow:before {color: black;}#sk-container-id-5 div.sk-toggleable__content {max-height: 0;max-width: 0;overflow: hidden;text-align: left;background-color: #f0f8ff;}#sk-container-id-5 div.sk-toggleable__content pre {margin: 0.2em;color: black;border-radius: 0.25em;background-color: #f0f8ff;}#sk-container-id-5 input.sk-toggleable__control:checked~div.sk-toggleable__content {max-height: 200px;max-width: 100%;overflow: auto;}#sk-container-id-5 input.sk-toggleable__control:checked~label.sk-toggleable__label-arrow:before {content: \"▾\";}#sk-container-id-5 div.sk-estimator input.sk-toggleable__control:checked~label.sk-toggleable__label {background-color: #d4ebff;}#sk-container-id-5 div.sk-label input.sk-toggleable__control:checked~label.sk-toggleable__label {background-color: #d4ebff;}#sk-container-id-5 input.sk-hidden--visually {border: 0;clip: rect(1px 1px 1px 1px);clip: rect(1px, 1px, 1px, 1px);height: 1px;margin: -1px;overflow: hidden;padding: 0;position: absolute;width: 1px;}#sk-container-id-5 div.sk-estimator {font-family: monospace;background-color: #f0f8ff;border: 1px dotted black;border-radius: 0.25em;box-sizing: border-box;margin-bottom: 0.5em;}#sk-container-id-5 div.sk-estimator:hover {background-color: #d4ebff;}#sk-container-id-5 div.sk-parallel-item::after {content: \"\";width: 100%;border-bottom: 1px solid gray;flex-grow: 1;}#sk-container-id-5 div.sk-label:hover label.sk-toggleable__label {background-color: #d4ebff;}#sk-container-id-5 div.sk-serial::before {content: \"\";position: absolute;border-left: 1px solid gray;box-sizing: border-box;top: 0;bottom: 0;left: 50%;z-index: 0;}#sk-container-id-5 div.sk-serial {display: flex;flex-direction: column;align-items: center;background-color: white;padding-right: 0.2em;padding-left: 0.2em;position: relative;}#sk-container-id-5 div.sk-item {position: relative;z-index: 1;}#sk-container-id-5 div.sk-parallel {display: flex;align-items: stretch;justify-content: center;background-color: white;position: relative;}#sk-container-id-5 div.sk-item::before, #sk-container-id-5 div.sk-parallel-item::before {content: \"\";position: absolute;border-left: 1px solid gray;box-sizing: border-box;top: 0;bottom: 0;left: 50%;z-index: -1;}#sk-container-id-5 div.sk-parallel-item {display: flex;flex-direction: column;z-index: 1;position: relative;background-color: white;}#sk-container-id-5 div.sk-parallel-item:first-child::after {align-self: flex-end;width: 50%;}#sk-container-id-5 div.sk-parallel-item:last-child::after {align-self: flex-start;width: 50%;}#sk-container-id-5 div.sk-parallel-item:only-child::after {width: 0;}#sk-container-id-5 div.sk-dashed-wrapped {border: 1px dashed gray;margin: 0 0.4em 0.5em 0.4em;box-sizing: border-box;padding-bottom: 0.4em;background-color: white;}#sk-container-id-5 div.sk-label label {font-family: monospace;font-weight: bold;display: inline-block;line-height: 1.2em;}#sk-container-id-5 div.sk-label-container {text-align: center;}#sk-container-id-5 div.sk-container {/* jupyter's `normalize.less` sets `[hidden] { display: none; }` but bootstrap.min.css set `[hidden] { display: none !important; }` so we also need the `!important` here to be able to override the default hidden behavior on the sphinx rendered scikit-learn.org. See: https://github.com/scikit-learn/scikit-learn/issues/21755 */display: inline-block !important;position: relative;}#sk-container-id-5 div.sk-text-repr-fallback {display: none;}</style><div id=\"sk-container-id-5\" class=\"sk-top-container\"><div class=\"sk-text-repr-fallback\"><pre>GridSearchCV(cv=3, estimator=SVC(),\n",
              "             param_grid={&#x27;C&#x27;: [1, 5, 10, 30, 60, 70, 100],\n",
              "                         &#x27;gamma&#x27;: [1, 0.1, 0.01, 0.001, 0.0001]},\n",
              "             scoring=&#x27;f1&#x27;, verbose=3)</pre><b>In a Jupyter environment, please rerun this cell to show the HTML representation or trust the notebook. <br />On GitHub, the HTML representation is unable to render, please try loading this page with nbviewer.org.</b></div><div class=\"sk-container\" hidden><div class=\"sk-item sk-dashed-wrapped\"><div class=\"sk-label-container\"><div class=\"sk-label sk-toggleable\"><input class=\"sk-toggleable__control sk-hidden--visually\" id=\"sk-estimator-id-7\" type=\"checkbox\" ><label for=\"sk-estimator-id-7\" class=\"sk-toggleable__label sk-toggleable__label-arrow\">GridSearchCV</label><div class=\"sk-toggleable__content\"><pre>GridSearchCV(cv=3, estimator=SVC(),\n",
              "             param_grid={&#x27;C&#x27;: [1, 5, 10, 30, 60, 70, 100],\n",
              "                         &#x27;gamma&#x27;: [1, 0.1, 0.01, 0.001, 0.0001]},\n",
              "             scoring=&#x27;f1&#x27;, verbose=3)</pre></div></div></div><div class=\"sk-parallel\"><div class=\"sk-parallel-item\"><div class=\"sk-item\"><div class=\"sk-label-container\"><div class=\"sk-label sk-toggleable\"><input class=\"sk-toggleable__control sk-hidden--visually\" id=\"sk-estimator-id-8\" type=\"checkbox\" ><label for=\"sk-estimator-id-8\" class=\"sk-toggleable__label sk-toggleable__label-arrow\">estimator: SVC</label><div class=\"sk-toggleable__content\"><pre>SVC()</pre></div></div></div><div class=\"sk-serial\"><div class=\"sk-item\"><div class=\"sk-estimator sk-toggleable\"><input class=\"sk-toggleable__control sk-hidden--visually\" id=\"sk-estimator-id-9\" type=\"checkbox\" ><label for=\"sk-estimator-id-9\" class=\"sk-toggleable__label sk-toggleable__label-arrow\">SVC</label><div class=\"sk-toggleable__content\"><pre>SVC()</pre></div></div></div></div></div></div></div></div></div></div>"
            ],
            "text/plain": [
              "GridSearchCV(cv=3, estimator=SVC(),\n",
              "             param_grid={'C': [1, 5, 10, 30, 60, 70, 100],\n",
              "                         'gamma': [1, 0.1, 0.01, 0.001, 0.0001]},\n",
              "             scoring='f1', verbose=3)"
            ]
          },
          "execution_count": 45,
          "metadata": {},
          "output_type": "execute_result"
        }
      ],
      "source": [
        "# fitting the model for grid search\n",
        "grid.fit(X,y)"
      ]
    },
    {
      "cell_type": "code",
      "execution_count": null,
      "metadata": {
        "colab": {
          "base_uri": "https://localhost:8080/"
        },
        "id": "H1VSFR7QtV62",
        "outputId": "dc9b953c-e8f3-42e7-8a99-9ca5bb4cda37"
      },
      "outputs": [
        {
          "name": "stdout",
          "output_type": "stream",
          "text": [
            "Best Parameters of C & Gamma are: {'C': 30, 'gamma': 0.01}\n",
            "Best Score we can get is: 0.8461903688678536\n"
          ]
        }
      ],
      "source": [
        "# print best parameter after tuning\n",
        "print(\"Best Parameters of C & Gamma are:\",grid.best_params_)\n",
        "\n",
        "# print how our model looks after hyper-parameter tuning\n",
        "print(\"Best Score we can get is:\",grid.best_score_)"
      ]
    },
    {
      "cell_type": "code",
      "execution_count": null,
      "metadata": {
        "id": "9IzC9tpjtV65"
      },
      "outputs": [],
      "source": [
        "#clf=SVC(C=100, gamma=0.001,random_state=42) ##0.1\n",
        "clf=SVC(C=30, gamma=0.01,random_state=42) ##0.1"
      ]
    },
    {
      "cell_type": "code",
      "execution_count": null,
      "metadata": {
        "colab": {
          "base_uri": "https://localhost:8080/"
        },
        "id": "ZeyABB5ntV7V",
        "outputId": "65193651-7bb1-4828-a19e-0c6e9b6db02d"
      },
      "outputs": [
        {
          "data": {
            "text/html": [
              "<style>#sk-container-id-6 {color: black;background-color: white;}#sk-container-id-6 pre{padding: 0;}#sk-container-id-6 div.sk-toggleable {background-color: white;}#sk-container-id-6 label.sk-toggleable__label {cursor: pointer;display: block;width: 100%;margin-bottom: 0;padding: 0.3em;box-sizing: border-box;text-align: center;}#sk-container-id-6 label.sk-toggleable__label-arrow:before {content: \"▸\";float: left;margin-right: 0.25em;color: #696969;}#sk-container-id-6 label.sk-toggleable__label-arrow:hover:before {color: black;}#sk-container-id-6 div.sk-estimator:hover label.sk-toggleable__label-arrow:before {color: black;}#sk-container-id-6 div.sk-toggleable__content {max-height: 0;max-width: 0;overflow: hidden;text-align: left;background-color: #f0f8ff;}#sk-container-id-6 div.sk-toggleable__content pre {margin: 0.2em;color: black;border-radius: 0.25em;background-color: #f0f8ff;}#sk-container-id-6 input.sk-toggleable__control:checked~div.sk-toggleable__content {max-height: 200px;max-width: 100%;overflow: auto;}#sk-container-id-6 input.sk-toggleable__control:checked~label.sk-toggleable__label-arrow:before {content: \"▾\";}#sk-container-id-6 div.sk-estimator input.sk-toggleable__control:checked~label.sk-toggleable__label {background-color: #d4ebff;}#sk-container-id-6 div.sk-label input.sk-toggleable__control:checked~label.sk-toggleable__label {background-color: #d4ebff;}#sk-container-id-6 input.sk-hidden--visually {border: 0;clip: rect(1px 1px 1px 1px);clip: rect(1px, 1px, 1px, 1px);height: 1px;margin: -1px;overflow: hidden;padding: 0;position: absolute;width: 1px;}#sk-container-id-6 div.sk-estimator {font-family: monospace;background-color: #f0f8ff;border: 1px dotted black;border-radius: 0.25em;box-sizing: border-box;margin-bottom: 0.5em;}#sk-container-id-6 div.sk-estimator:hover {background-color: #d4ebff;}#sk-container-id-6 div.sk-parallel-item::after {content: \"\";width: 100%;border-bottom: 1px solid gray;flex-grow: 1;}#sk-container-id-6 div.sk-label:hover label.sk-toggleable__label {background-color: #d4ebff;}#sk-container-id-6 div.sk-serial::before {content: \"\";position: absolute;border-left: 1px solid gray;box-sizing: border-box;top: 0;bottom: 0;left: 50%;z-index: 0;}#sk-container-id-6 div.sk-serial {display: flex;flex-direction: column;align-items: center;background-color: white;padding-right: 0.2em;padding-left: 0.2em;position: relative;}#sk-container-id-6 div.sk-item {position: relative;z-index: 1;}#sk-container-id-6 div.sk-parallel {display: flex;align-items: stretch;justify-content: center;background-color: white;position: relative;}#sk-container-id-6 div.sk-item::before, #sk-container-id-6 div.sk-parallel-item::before {content: \"\";position: absolute;border-left: 1px solid gray;box-sizing: border-box;top: 0;bottom: 0;left: 50%;z-index: -1;}#sk-container-id-6 div.sk-parallel-item {display: flex;flex-direction: column;z-index: 1;position: relative;background-color: white;}#sk-container-id-6 div.sk-parallel-item:first-child::after {align-self: flex-end;width: 50%;}#sk-container-id-6 div.sk-parallel-item:last-child::after {align-self: flex-start;width: 50%;}#sk-container-id-6 div.sk-parallel-item:only-child::after {width: 0;}#sk-container-id-6 div.sk-dashed-wrapped {border: 1px dashed gray;margin: 0 0.4em 0.5em 0.4em;box-sizing: border-box;padding-bottom: 0.4em;background-color: white;}#sk-container-id-6 div.sk-label label {font-family: monospace;font-weight: bold;display: inline-block;line-height: 1.2em;}#sk-container-id-6 div.sk-label-container {text-align: center;}#sk-container-id-6 div.sk-container {/* jupyter's `normalize.less` sets `[hidden] { display: none; }` but bootstrap.min.css set `[hidden] { display: none !important; }` so we also need the `!important` here to be able to override the default hidden behavior on the sphinx rendered scikit-learn.org. See: https://github.com/scikit-learn/scikit-learn/issues/21755 */display: inline-block !important;position: relative;}#sk-container-id-6 div.sk-text-repr-fallback {display: none;}</style><div id=\"sk-container-id-6\" class=\"sk-top-container\"><div class=\"sk-text-repr-fallback\"><pre>SVC(C=30, gamma=0.01, random_state=42)</pre><b>In a Jupyter environment, please rerun this cell to show the HTML representation or trust the notebook. <br />On GitHub, the HTML representation is unable to render, please try loading this page with nbviewer.org.</b></div><div class=\"sk-container\" hidden><div class=\"sk-item\"><div class=\"sk-estimator sk-toggleable\"><input class=\"sk-toggleable__control sk-hidden--visually\" id=\"sk-estimator-id-10\" type=\"checkbox\" checked><label for=\"sk-estimator-id-10\" class=\"sk-toggleable__label sk-toggleable__label-arrow\">SVC</label><div class=\"sk-toggleable__content\"><pre>SVC(C=30, gamma=0.01, random_state=42)</pre></div></div></div></div></div>"
            ],
            "text/plain": [
              "SVC(C=30, gamma=0.01, random_state=42)"
            ]
          },
          "execution_count": 48,
          "metadata": {},
          "output_type": "execute_result"
        }
      ],
      "source": [
        "clf.fit(X_smote, y_smote)"
      ]
    },
    {
      "cell_type": "code",
      "execution_count": null,
      "metadata": {
        "id": "L0miAUmWtV7X"
      },
      "outputs": [],
      "source": [
        "y_clf=clf.predict(X_test)"
      ]
    },
    {
      "cell_type": "code",
      "execution_count": null,
      "metadata": {
        "colab": {
          "base_uri": "https://localhost:8080/"
        },
        "collapsed": true,
        "id": "PYEkLS39tV7Y",
        "outputId": "0cf18d8d-9e31-47a6-8224-a28c79a79ea3"
      },
      "outputs": [
        {
          "name": "stdout",
          "output_type": "stream",
          "text": [
            "              precision    recall  f1-score   support\n",
            "\n",
            "           0       0.71      0.54      0.61        54\n",
            "           1       0.78      0.88      0.83       100\n",
            "\n",
            "    accuracy                           0.76       154\n",
            "   macro avg       0.74      0.71      0.72       154\n",
            "weighted avg       0.75      0.76      0.75       154\n",
            "\n"
          ]
        }
      ],
      "source": [
        "print(classification_report(y_test,y_clf))"
      ]
    },
    {
      "cell_type": "code",
      "execution_count": null,
      "metadata": {
        "colab": {
          "base_uri": "https://localhost:8080/"
        },
        "collapsed": true,
        "id": "gckZi4TCtV7a",
        "outputId": "439d4dd1-ca30-4a78-81a0-9c8f01ca3943"
      },
      "outputs": [
        {
          "data": {
            "text/plain": [
              "0.8262910798122066"
            ]
          },
          "execution_count": 51,
          "metadata": {},
          "output_type": "execute_result"
        }
      ],
      "source": [
        "from sklearn.metrics import f1_score\n",
        "f1=f1_score(y_test,y_clf)\n",
        "f1"
      ]
    },
    {
      "cell_type": "code",
      "execution_count": null,
      "metadata": {
        "colab": {
          "base_uri": "https://localhost:8080/"
        },
        "id": "OKzm6SL4tV7c",
        "outputId": "19a2723a-ba76-4e72-d1e6-0a65be5e8510"
      },
      "outputs": [
        {
          "name": "stdout",
          "output_type": "stream",
          "text": [
            "[0.87234043 0.86363636 0.82608696 0.81318681 0.84444444 0.80898876\n",
            " 0.87356322 0.84705882 0.80952381 0.88888889]\n",
            "Cross validation Score: 0.8447718507699132\n",
            "Std : 0.005313530063281029\n"
          ]
        }
      ],
      "source": [
        "scores_after = cross_val_score(clf,X,y,cv=10,scoring='f1')\n",
        "print(scores_after)\n",
        "print(\"Cross validation Score:\",scores_after.mean())\n",
        "print(\"Std :\",scores.std())\n",
        "#std of < 0.05 is good."
      ]
    },
    {
      "cell_type": "code",
      "execution_count": null,
      "metadata": {
        "id": "C3nXbVN_9gCM"
      },
      "outputs": [],
      "source": []
    }
  ],
  "metadata": {
    "colab": {
      "collapsed_sections": [
        "PGlLFlEEtV6p",
        "a5rJZqB3tV6r",
        "j8EQN0q4tV6r",
        "2FKrgbUytV6t",
        "MOv9QRY6tV6x"
      ],
      "provenance": []
    },
    "kernelspec": {
      "display_name": "Python 3 (ipykernel)",
      "language": "python",
      "name": "python3"
    },
    "language_info": {
      "codemirror_mode": {
        "name": "ipython",
        "version": 3
      },
      "file_extension": ".py",
      "mimetype": "text/x-python",
      "name": "python",
      "nbconvert_exporter": "python",
      "pygments_lexer": "ipython3",
      "version": "3.11.3"
    }
  },
  "nbformat": 4,
  "nbformat_minor": 0
}